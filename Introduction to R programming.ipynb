{
 "cells": [
  {
   "cell_type": "markdown",
   "id": "billion-discretion",
   "metadata": {},
   "source": [
    "# Introduction to R - programming : <img src=\"https://upload.wikimedia.org/wikipedia/commons/thumb/1/1b/R_logo.svg/724px-R_logo.svg.png\" width=100 alt=\"Introduction to R programming \" style=\"float:right\">"
   ]
  },
  {
   "cell_type": "markdown",
   "id": "recorded-picnic",
   "metadata": {},
   "source": [
    "##### Q. What is the file extension of R scripts? and, How to run R scripts?\n",
    "**A.** The R script files are saved with **.R** extension. \n",
    "Example : \" EDA_titanic.R  \"\n",
    "\n",
    "**To run R script:**\n",
    "\n",
    "First, open your terminal or cmd with R enviornment activated. <br>\n",
    "Second, run the following command : \n",
    "<br>`Syntax : Rscript \\[ filename \\].R`\n",
    "\n",
    "Example  :\n",
    "```>> Rscript EDA_titanic.R```"
   ]
  },
  {
   "cell_type": "markdown",
   "id": "inclusive-berkeley",
   "metadata": {},
   "source": [
    "## Input - Output :\n",
    "\n",
    "#### print() function : \n",
    "This function is used to print text passed to it on the screen. For example : "
   ]
  },
  {
   "cell_type": "code",
   "execution_count": 1,
   "id": "fundamental-combination",
   "metadata": {},
   "outputs": [
    {
     "name": "stdout",
     "output_type": "stream",
     "text": [
      "[1] \"Welcome to R programming!\"\n"
     ]
    }
   ],
   "source": [
    "print(\"Welcome to R programming!\")"
   ]
  },
  {
   "cell_type": "markdown",
   "id": "informed-accounting",
   "metadata": {},
   "source": [
    "#### readline() function:\n",
    "This function is used for accepting input from the user. By defualt the input is stored as character data type. For example :"
   ]
  },
  {
   "cell_type": "code",
   "execution_count": 2,
   "id": "upper-knight",
   "metadata": {},
   "outputs": [
    {
     "name": "stdout",
     "output_type": "stream",
     "text": [
      "Please Enter your name: Pythagoras\n"
     ]
    }
   ],
   "source": [
    "user_name <- readline(prompt=\"Please Enter your name: \")"
   ]
  },
  {
   "cell_type": "code",
   "execution_count": 3,
   "id": "loving-cambridge",
   "metadata": {},
   "outputs": [
    {
     "name": "stdout",
     "output_type": "stream",
     "text": [
      "[1] \"Pythagoras\"\n"
     ]
    }
   ],
   "source": [
    "# printing output stored in variable\n",
    "print(user_name)"
   ]
  },
  {
   "cell_type": "markdown",
   "id": "interracial-calcium",
   "metadata": {},
   "source": [
    "## Variables:\n",
    "These are the containers which store the values in it. These variables or containers can hold different types of data values or data types in them. \n",
    "\n",
    "### Data Types in R :\n",
    "There are many different types of data types objects in R, which are :\n",
    "1. **Boolean :** Logical values - `TRUE` or `FALSE`\n",
    "2. **Characters :** Strings or characters - `\"Z\"` , `\"Welcome!\"`\n",
    "3. **Numeric :** Decial or Real values - `3.14`, `4`\n",
    "4. **Integers :** Non decimal numbers - `4L`  \n",
    "5. **Complex :** real + Imaginary numbers - `3+9i` ( Of the form: a+bi )\n",
    "\n",
    "\n",
    "Lets create a string with variable name- 'greet' :"
   ]
  },
  {
   "cell_type": "code",
   "execution_count": 4,
   "id": "clinical-reminder",
   "metadata": {},
   "outputs": [],
   "source": [
    "# 1. \n",
    "var_bool <- TRUE\n",
    "# 2. \n",
    "var_greet <- \"Welcome!\"\n",
    "# 3.\n",
    "var_number <- 3.14\n",
    "# 4.\n",
    "var_int <- 4L\n",
    "# 5.\n",
    "var_cmplx <- 3+9i"
   ]
  },
  {
   "cell_type": "markdown",
   "id": "rubber-glasgow",
   "metadata": {},
   "source": [
    "To check the datatype of a variable we use the `typeof()` function. For example to check datatype of var_bool :"
   ]
  },
  {
   "cell_type": "code",
   "execution_count": 5,
   "id": "collected-extent",
   "metadata": {},
   "outputs": [
    {
     "name": "stdout",
     "output_type": "stream",
     "text": [
      "[1] \"Type of var_bool : \"\n"
     ]
    },
    {
     "data": {
      "text/html": [
       "'logical'"
      ],
      "text/latex": [
       "'logical'"
      ],
      "text/markdown": [
       "'logical'"
      ],
      "text/plain": [
       "[1] \"logical\""
      ]
     },
     "metadata": {},
     "output_type": "display_data"
    },
    {
     "name": "stdout",
     "output_type": "stream",
     "text": [
      "[1] \"Type of var_greet : \"\n"
     ]
    },
    {
     "data": {
      "text/html": [
       "'character'"
      ],
      "text/latex": [
       "'character'"
      ],
      "text/markdown": [
       "'character'"
      ],
      "text/plain": [
       "[1] \"character\""
      ]
     },
     "metadata": {},
     "output_type": "display_data"
    },
    {
     "name": "stdout",
     "output_type": "stream",
     "text": [
      "[1] \"Type of var_number : \"\n"
     ]
    },
    {
     "data": {
      "text/html": [
       "'double'"
      ],
      "text/latex": [
       "'double'"
      ],
      "text/markdown": [
       "'double'"
      ],
      "text/plain": [
       "[1] \"double\""
      ]
     },
     "metadata": {},
     "output_type": "display_data"
    },
    {
     "name": "stdout",
     "output_type": "stream",
     "text": [
      "[1] \"Type of var_int : \"\n"
     ]
    },
    {
     "data": {
      "text/html": [
       "'integer'"
      ],
      "text/latex": [
       "'integer'"
      ],
      "text/markdown": [
       "'integer'"
      ],
      "text/plain": [
       "[1] \"integer\""
      ]
     },
     "metadata": {},
     "output_type": "display_data"
    },
    {
     "name": "stdout",
     "output_type": "stream",
     "text": [
      "[1] \"Type of var_cmplx : \"\n"
     ]
    },
    {
     "data": {
      "text/html": [
       "'complex'"
      ],
      "text/latex": [
       "'complex'"
      ],
      "text/markdown": [
       "'complex'"
      ],
      "text/plain": [
       "[1] \"complex\""
      ]
     },
     "metadata": {},
     "output_type": "display_data"
    }
   ],
   "source": [
    "# Types of : \n",
    "# 1.\n",
    "print(\"Type of var_bool : \")\n",
    "typeof(var_bool)\n",
    "# 2.\n",
    "print(\"Type of var_greet : \")\n",
    "typeof(var_greet)\n",
    "# 3.\n",
    "print(\"Type of var_number : \")\n",
    "typeof(var_number)\n",
    "# 4.\n",
    "print(\"Type of var_int : \")\n",
    "typeof(var_int)\n",
    "# 5.\n",
    "print(\"Type of var_cmplx : \")\n",
    "typeof(var_cmplx)"
   ]
  },
  {
   "cell_type": "markdown",
   "id": "metropolitan-suspension",
   "metadata": {},
   "source": [
    "## Variable Assignment operators:\n",
    "The values to the variables can be assigned in three different ways :\n",
    "\n",
    "|Assignment type|Syntax|\n",
    "|--|--|\n",
    "|**Leftward** operator | `[variable] <- [value]`|\n",
    "|**Rightward** operator|`    [value] -> [variable]`|\n",
    "|**Equals to** operator|` [variable] =  [value]`|\n"
   ]
  },
  {
   "cell_type": "code",
   "execution_count": 6,
   "id": "brown-miami",
   "metadata": {},
   "outputs": [
    {
     "name": "stdout",
     "output_type": "stream",
     "text": [
      "Leftward  :  15.36 \n",
      "Rightward :  999.9 \n",
      "Equals to :  2 \n"
     ]
    }
   ],
   "source": [
    "# 1. \n",
    "var_num <- 15.36\n",
    "cat(\"Leftward  : \",var_num,\"\\n\")\n",
    "\n",
    "# 2. \n",
    "999.9 -> var_num\n",
    "cat(\"Rightward : \",var_num,\"\\n\")\n",
    "\n",
    "# 3. \n",
    "var_num = 2L\n",
    "cat(\"Equals to : \",var_num,\"\\n\")"
   ]
  },
  {
   "cell_type": "markdown",
   "id": "given-drain",
   "metadata": {},
   "source": [
    "## Different Operator types:\n",
    "There are different types of operators :\n",
    "\n",
    "### 1. **Arithmetic Operators:**\n",
    "Arithmetic operations includes : \n",
    "\n",
    "| Arithmetic Operator | |\n",
    "|--|--|\n",
    "|**+**| Addition|\n",
    "|**-**| Subtraction|\n",
    "|**\\***| Multiplication|\n",
    "|**/**| Division|\n",
    "|**%%**| Remainder|\n",
    "|**^**| Exponent|\n",
    "|**%/%**| Quotient|\n",
    "\n",
    "For example :"
   ]
  },
  {
   "cell_type": "code",
   "execution_count": 7,
   "id": "married-virginia",
   "metadata": {},
   "outputs": [
    {
     "name": "stdout",
     "output_type": "stream",
     "text": [
      "var_num = 44 \n",
      "var_num = 50 \n",
      "var_num = 30 \n",
      "var_num = 60 \n",
      "var_num = 20 \n",
      "var_num = 400 \n",
      "var_num = 0 \n",
      "var_num = 80 \n"
     ]
    }
   ],
   "source": [
    "var_num <- 44                     # Assignment \n",
    "cat(\"var_num =\", var_num,\"\\n\")\n",
    "\n",
    "var_num = var_num + 6             # 44 + 6\n",
    "cat(\"var_num =\", var_num,\"\\n\")\n",
    "\n",
    "var_num = var_num - 20            # 50 - 20\n",
    "cat(\"var_num =\", var_num,\"\\n\")\n",
    "\n",
    "var_num = var_num * 2            # 30*2\n",
    "cat(\"var_num =\", var_num,\"\\n\")\n",
    "\n",
    "var_num = var_num / 3             # 60 / 3 \n",
    "cat(\"var_num =\", var_num,\"\\n\")\n",
    "\n",
    "var_num = var_num ^ 2             # 20^2 = 20*20 \n",
    "cat(\"var_num =\", var_num,\"\\n\")\n",
    "\n",
    "var_num = var_num %% 5             # 400 is divisible by 5. Hence Remainder = 0\n",
    "cat(\"var_num =\", var_num,\"\\n\")\n",
    "\n",
    "var_num <-400\n",
    "var_num = var_num %/% 5            # when 400 / 5. Quotient = 80\n",
    "cat(\"var_num =\", var_num,\"\\n\")"
   ]
  },
  {
   "cell_type": "markdown",
   "id": "biblical-responsibility",
   "metadata": {},
   "source": [
    "### 2. **Comparison Operators:**\n",
    "This includes : \n",
    "| Relational Operator | |\n",
    "|--|--|\n",
    "|**<**| Less than |\n",
    "|**>**| More than|\n",
    "|**<=**| Less than equal|\n",
    "|**>=**| Greator than equal|\n",
    "|**==**| Equals |\n",
    "|**!=**| Not Equals|"
   ]
  },
  {
   "cell_type": "code",
   "execution_count": 8,
   "id": "international-magic",
   "metadata": {},
   "outputs": [
    {
     "name": "stdout",
     "output_type": "stream",
     "text": [
      "400    <   200 = FALSE \n",
      "\n",
      "200    >=  200 = TRUE \n",
      "\n",
      "200%%2 ==   0  = FALSE \n",
      "\n",
      "33     !=   22 = FALSE \n"
     ]
    }
   ],
   "source": [
    "var_res <- 400 < 200\n",
    "cat(\"400    <   200 =\", var_res,\"\\n\\n\")\n",
    "\n",
    "var_res <- 200 >= 200\n",
    "cat(\"200    >=  200 =\", var_res,\"\\n\\n\")\n",
    "\n",
    "var_res <- 200%%2 != 0 \n",
    "cat(\"200%%2 ==   0  =\", var_res,\"\\n\\n\")\n",
    "\n",
    "var_res <- 33 == 22\n",
    "cat(\"33     !=   22 =\", var_res,\"\\n\")\n"
   ]
  },
  {
   "cell_type": "markdown",
   "id": "senior-parcel",
   "metadata": {},
   "source": [
    "### 3. **Logical Operators:**\n",
    "These are used when we want to compare multiple conditions returning a boolean value. This includes : \n",
    "| Logical Operator | |\n",
    "|--|--|\n",
    "|**\\|\\|**| Logical OR |\n",
    "|**!**| Logical NOT|\n",
    "|**&&**| Logical AND|\n",
    "\n",
    "For example consider :"
   ]
  },
  {
   "cell_type": "code",
   "execution_count": 9,
   "id": "willing-coaching",
   "metadata": {},
   "outputs": [
    {
     "data": {
      "text/html": [
       "TRUE"
      ],
      "text/latex": [
       "TRUE"
      ],
      "text/markdown": [
       "TRUE"
      ],
      "text/plain": [
       "[1] TRUE"
      ]
     },
     "metadata": {},
     "output_type": "display_data"
    }
   ],
   "source": [
    "# True  OR   FALSE  = TRUE\n",
    "5<9     ||   1>2"
   ]
  },
  {
   "cell_type": "code",
   "execution_count": 10,
   "id": "naval-quilt",
   "metadata": {},
   "outputs": [
    {
     "data": {
      "text/html": [
       "FALSE"
      ],
      "text/latex": [
       "FALSE"
      ],
      "text/markdown": [
       "FALSE"
      ],
      "text/plain": [
       "[1] FALSE"
      ]
     },
     "metadata": {},
     "output_type": "display_data"
    }
   ],
   "source": [
    "# True  AND  FALSE  = FALSE\n",
    "5<9     &&   1>2"
   ]
  },
  {
   "cell_type": "code",
   "execution_count": 11,
   "id": "enormous-penguin",
   "metadata": {},
   "outputs": [
    {
     "data": {
      "text/html": [
       "TRUE"
      ],
      "text/latex": [
       "TRUE"
      ],
      "text/markdown": [
       "TRUE"
      ],
      "text/plain": [
       "[1] TRUE"
      ]
     },
     "metadata": {},
     "output_type": "display_data"
    }
   ],
   "source": [
    "# 1 is not equal to 5 = TRUE\n",
    "1 != 5"
   ]
  },
  {
   "cell_type": "markdown",
   "id": "cathedral-relation",
   "metadata": {},
   "source": [
    "### 4. **Membership Operators:**\n",
    "\n",
    "| Membership Operator | |\n",
    "|--|--|\n",
    "|**%in%**| Used to check if an element is present in other object |\n"
   ]
  },
  {
   "cell_type": "code",
   "execution_count": 12,
   "id": "equivalent-nursery",
   "metadata": {},
   "outputs": [
    {
     "data": {
      "text/html": [
       "<ol class=list-inline>\n",
       "\t<li>1</li>\n",
       "\t<li>2</li>\n",
       "\t<li>3</li>\n",
       "\t<li>4</li>\n",
       "\t<li>5</li>\n",
       "</ol>\n"
      ],
      "text/latex": [
       "\\begin{enumerate*}\n",
       "\\item 1\n",
       "\\item 2\n",
       "\\item 3\n",
       "\\item 4\n",
       "\\item 5\n",
       "\\end{enumerate*}\n"
      ],
      "text/markdown": [
       "1. 1\n",
       "2. 2\n",
       "3. 3\n",
       "4. 4\n",
       "5. 5\n",
       "\n",
       "\n"
      ],
      "text/plain": [
       "[1] 1 2 3 4 5"
      ]
     },
     "metadata": {},
     "output_type": "display_data"
    }
   ],
   "source": [
    "var_vector = c(1:5)\n",
    "var_vector"
   ]
  },
  {
   "cell_type": "code",
   "execution_count": 13,
   "id": "irish-button",
   "metadata": {},
   "outputs": [
    {
     "data": {
      "text/html": [
       "TRUE"
      ],
      "text/latex": [
       "TRUE"
      ],
      "text/markdown": [
       "TRUE"
      ],
      "text/plain": [
       "[1] TRUE"
      ]
     },
     "metadata": {},
     "output_type": "display_data"
    }
   ],
   "source": [
    "# since number 5 is present in vector \"var_vector\" \n",
    "# output : TRUE\n",
    "\n",
    "5 %in% var_vector"
   ]
  },
  {
   "cell_type": "code",
   "execution_count": 14,
   "id": "continued-hawaii",
   "metadata": {},
   "outputs": [
    {
     "data": {
      "text/html": [
       "FALSE"
      ],
      "text/latex": [
       "FALSE"
      ],
      "text/markdown": [
       "FALSE"
      ],
      "text/plain": [
       "[1] FALSE"
      ]
     },
     "metadata": {},
     "output_type": "display_data"
    }
   ],
   "source": [
    "# since number 15 is NOT present in vector \"var_vector\" \n",
    "# output : FALSE\n",
    "\n",
    "15 %in% var_vector"
   ]
  },
  {
   "cell_type": "markdown",
   "id": "selective-softball",
   "metadata": {},
   "source": [
    "## Vectors :\n",
    "Vector is a collection of multiple elements which are of the same datatype. \n",
    "These can be created using the `c()` function. "
   ]
  },
  {
   "cell_type": "code",
   "execution_count": 15,
   "id": "level-projector",
   "metadata": {},
   "outputs": [
    {
     "name": "stdout",
     "output_type": "stream",
     "text": [
      "[1] 1 2 3 5 7\n",
      "[1] \"double\"\n"
     ]
    }
   ],
   "source": [
    "# Vector example:\n",
    "var_vector <- c(1,2,3,5,7)\n",
    "print(var_vector)\n",
    "\n",
    "# printing typeof vector \n",
    "print(typeof(var_vector))"
   ]
  },
  {
   "cell_type": "markdown",
   "id": "bronze-swimming",
   "metadata": {},
   "source": [
    "If a vector is created with different types of data type elements present inside then it forces the element to be a higher data type <br>i.e. **boolean < integer < double < character**.\n",
    "\n",
    "Consider the following example: "
   ]
  },
  {
   "cell_type": "code",
   "execution_count": 16,
   "id": "norman-jackson",
   "metadata": {},
   "outputs": [
    {
     "name": "stdout",
     "output_type": "stream",
     "text": [
      "[1] \"integer\"\n"
     ]
    }
   ],
   "source": [
    "# Below is a vector with a single Integer number\n",
    "var_vector <- c( 10L )\n",
    "print(typeof(var_vector))"
   ]
  },
  {
   "cell_type": "code",
   "execution_count": 17,
   "id": "practical-tyler",
   "metadata": {},
   "outputs": [
    {
     "name": "stdout",
     "output_type": "stream",
     "text": [
      "[1] \"double\"\n"
     ]
    }
   ],
   "source": [
    "# below is a vector with a Integer number and a double number \n",
    "var_vector <- c( 10L , 3.14)\n",
    "print(typeof(var_vector))"
   ]
  },
  {
   "cell_type": "code",
   "execution_count": 18,
   "id": "sudden-intensity",
   "metadata": {},
   "outputs": [
    {
     "name": "stdout",
     "output_type": "stream",
     "text": [
      "[1] \"character\"\n"
     ]
    }
   ],
   "source": [
    "# below is a vector with a Integer, double and a character datatype  \n",
    "var_vector <- c( 10L , 3.14, \"Pi value\")\n",
    "print(typeof(var_vector))"
   ]
  },
  {
   "cell_type": "markdown",
   "id": "opening-jerusalem",
   "metadata": {},
   "source": [
    "## Lists :\n",
    "List is an object which holds multiple elements like functions, vectors variables etc. It can be created using the `list()` function."
   ]
  },
  {
   "cell_type": "code",
   "execution_count": 19,
   "id": "compatible-replication",
   "metadata": {},
   "outputs": [
    {
     "name": "stdout",
     "output_type": "stream",
     "text": [
      "[[1]]\n",
      "[1] 3.14\n",
      "\n",
      "[[2]]\n",
      "[1] 11 13 17\n",
      "\n",
      "[[3]]\n",
      "[1] TRUE\n",
      "\n"
     ]
    }
   ],
   "source": [
    "var_list <- list( 3.14, c(11,13,17), TRUE )\n",
    "print(var_list)"
   ]
  },
  {
   "cell_type": "markdown",
   "id": "funny-stocks",
   "metadata": {},
   "source": [
    "## Matrices :\n",
    "These are the 2-dimensional arrays arranged in the form of rows and columns, which can be created using the `matrix()` function.\n",
    "\n",
    "For example:\n"
   ]
  },
  {
   "cell_type": "code",
   "execution_count": 20,
   "id": "detected-broadcast",
   "metadata": {},
   "outputs": [
    {
     "name": "stdout",
     "output_type": "stream",
     "text": [
      "     [,1]\n",
      "[1,]    1\n",
      "[2,]    2\n",
      "[3,]    3\n",
      "[4,]    4\n",
      "[5,]    5\n",
      "[6,]    6\n",
      "[7,]    7\n",
      "[8,]    8\n"
     ]
    }
   ],
   "source": [
    "# Creating a matrix of dimension (8,1)  \n",
    "var_vector <- c(1:8)\n",
    "var_matrix <- matrix( var_vector )\n",
    "print(var_matrix)"
   ]
  },
  {
   "cell_type": "code",
   "execution_count": 21,
   "id": "exceptional-enhancement",
   "metadata": {},
   "outputs": [
    {
     "name": "stdout",
     "output_type": "stream",
     "text": [
      "     [,1] [,2]\n",
      "[1,]    1    5\n",
      "[2,]    2    6\n",
      "[3,]    3    7\n",
      "[4,]    4    8\n"
     ]
    }
   ],
   "source": [
    "# Matrix of dimenson (4,2)\n",
    "var_vector <- c(1:8)\n",
    "var_matrix <- matrix( var_vector, nrow=4,ncol=2 )\n",
    "print(var_matrix)"
   ]
  },
  {
   "cell_type": "markdown",
   "id": "entertaining-elephant",
   "metadata": {},
   "source": [
    "## Arrays :\n",
    "These are the multi-dimensional arrays arranged in the form of rows, column and depth, which can be created using the `array()` function.\n",
    "\n",
    "For example: creating a three dimensional array with two layers of (1,3) matrix values: (11,22,33)  \n",
    "\n",
    "of the form :\n",
    "```\n",
    "[ \n",
    "  [ 11 , 22 , 33 ],\n",
    "  [ 11 , 22 , 33 ]\n",
    "]\n",
    "\n",
    "```"
   ]
  },
  {
   "cell_type": "code",
   "execution_count": 22,
   "id": "abroad-auckland",
   "metadata": {
    "scrolled": true
   },
   "outputs": [
    {
     "name": "stdout",
     "output_type": "stream",
     "text": [
      ", , 1\n",
      "\n",
      "     [,1] [,2] [,3]\n",
      "[1,]   11   22   33\n",
      "\n",
      ", , 2\n",
      "\n",
      "     [,1] [,2] [,3]\n",
      "[1,]   11   22   33\n",
      "\n"
     ]
    }
   ],
   "source": [
    "var_arr <- array(c(11,22,33),dim= c(1,3,2))\n",
    "print(var_arr)"
   ]
  },
  {
   "cell_type": "markdown",
   "id": "behavioral-reason",
   "metadata": {},
   "source": [
    "## if - else - switch statements :\n",
    "These statements are responsible for checking if a set of conditions specified are TRUE or FALSE. These statements are resposible for controling the flow of code execution.  \n",
    "\n",
    "### 1. **if statement:**\n",
    "\n",
    "**Syntax :**\n",
    "```\n",
    "if ( [ condition ] ){\n",
    "    # Block of code to execute\n",
    "    # if condition is TRUE \n",
    "}\n",
    "```\n",
    "Consider example:"
   ]
  },
  {
   "cell_type": "code",
   "execution_count": 23,
   "id": "alleged-animal",
   "metadata": {},
   "outputs": [
    {
     "name": "stdout",
     "output_type": "stream",
     "text": [
      "33  is divisible by 3!\n"
     ]
    }
   ],
   "source": [
    "# Checking if 33 is divible by 3\n",
    "\n",
    "var_num = 33\n",
    "if (var_num %% 3==0){\n",
    "    cat(var_num,\" is divisible by 3!\\n\")\n",
    "}"
   ]
  },
  {
   "cell_type": "markdown",
   "id": "pharmaceutical-uganda",
   "metadata": {},
   "source": [
    "### 2. **if - else statement:**\n",
    "\n",
    "**Syntax :**\n",
    "```\n",
    "if ( [ condition ] ){\n",
    "    # Block of code to execute\n",
    "    # if condition is TRUE \n",
    "} else {    #<------------------------------ PLEASE NOTE THIS SYNTAX\n",
    "                                           # If this is not followed,\n",
    "    # Block of code to execute             # then it will raise errors\n",
    "    # if condition is FALSE \n",
    "}\n",
    "```\n",
    "Consider example:"
   ]
  },
  {
   "cell_type": "code",
   "execution_count": 24,
   "id": "abroad-yukon",
   "metadata": {},
   "outputs": [
    {
     "name": "stdout",
     "output_type": "stream",
     "text": [
      "2  NOT divisible by 3!\n"
     ]
    }
   ],
   "source": [
    "# Checking if numebr 2 is divisible by 3 .\n",
    "\n",
    "var_num = 2\n",
    "if (var_num %% 3==0){\n",
    "    cat(var_num,\" is divisible by 3!\\n\")\n",
    "} else {\n",
    "    cat(var_num,\" NOT divisible by 3!\\n\")\n",
    "}"
   ]
  },
  {
   "cell_type": "markdown",
   "id": "premium-registrar",
   "metadata": {},
   "source": [
    "### 3. **Switch statement:**\n",
    "\n",
    "**Syntax :**\n",
    "```\n",
    "switch ( [choice], case1, case2, case3,...)\n",
    "\n",
    "returns case\n",
    "```\n",
    "\n",
    "\n",
    "Consider example :"
   ]
  },
  {
   "cell_type": "code",
   "execution_count": 25,
   "id": "small-hepatitis",
   "metadata": {},
   "outputs": [
    {
     "data": {
      "text/html": [
       "'VIII'"
      ],
      "text/latex": [
       "'VIII'"
      ],
      "text/markdown": [
       "'VIII'"
      ],
      "text/plain": [
       "[1] \"VIII\""
      ]
     },
     "metadata": {},
     "output_type": "display_data"
    }
   ],
   "source": [
    "var_choice = 8\n",
    "\n",
    "switch(var_choice, \"I\", \"II\", \"III\", \"IV\", \"V\", \"VI\", \"VII\", \"VIII\", \"IX\", \"X\")\n"
   ]
  },
  {
   "cell_type": "markdown",
   "id": "exciting-committee",
   "metadata": {},
   "source": [
    "## Loop Statements:\n",
    "\n",
    "There are 3 types of looping constructs, which are :\n",
    "\n",
    "| | loop name|\n",
    "|--|:-|\n",
    "|**1.**|**for loop**|\n",
    "|**2.**|**while loop**|\n",
    "|**3.**|**repeat loop**|\n",
    "\n",
    "### 1. **for loop:**\n",
    "\n",
    "**Syntax :**\n",
    "```\n",
    "for ( item in vector ) {\n",
    "    # Block of statemenst to execute\n",
    "    # for each loop-item\n",
    "}\n",
    "```\n",
    "Consider example:"
   ]
  },
  {
   "cell_type": "code",
   "execution_count": 26,
   "id": "eligible-calculation",
   "metadata": {},
   "outputs": [
    {
     "name": "stdout",
     "output_type": "stream",
     "text": [
      "Multiplication Table for  11  is as follows: \n",
      "\n",
      "11  *  1  =  11 \n",
      "11  *  2  =  22 \n",
      "11  *  3  =  33 \n",
      "11  *  4  =  44 \n",
      "11  *  5  =  55 \n",
      "11  *  6  =  66 \n",
      "11  *  7  =  77 \n",
      "11  *  8  =  88 \n",
      "11  *  9  =  99 \n",
      "11  *  10  =  110 \n"
     ]
    }
   ],
   "source": [
    "# print Multiplication Table for number : 11\n",
    "var_num = 11\n",
    "cat(\"Multiplication Table for \",var_num,\" is as follows: \\n\\n\")\n",
    "\n",
    "for ( var_item in 1:10){\n",
    "    cat(var_num,\" * \",var_item,\" = \",(var_num*var_item),\"\\n\")\n",
    "}"
   ]
  },
  {
   "cell_type": "code",
   "execution_count": 27,
   "id": "collectible-municipality",
   "metadata": {},
   "outputs": [
    {
     "name": "stdout",
     "output_type": "stream",
     "text": [
      "Famous and biggest fast Food Chains are :\n",
      "\n",
      "McDonald \n",
      "Subway \n",
      "Starbucks \n",
      "Pizza Hut \n"
     ]
    }
   ],
   "source": [
    "# Another example:\n",
    "restaurants = c( \"McDonald\", \"Subway\", \"Starbucks\", \"Pizza Hut\")\n",
    "cat(\"Famous and biggest fast Food Chains are :\\n\\n\")\n",
    "\n",
    "for ( item in restaurants ){\n",
    "    cat(item,\"\\n\")\n",
    "}"
   ]
  },
  {
   "cell_type": "markdown",
   "id": "biblical-highlight",
   "metadata": {},
   "source": [
    "### 2. **while loop:**\n",
    "**Syntax :**\n",
    "```\n",
    "while ( conditions ) {\n",
    "    # Block of statements to execute\n",
    "    # while the above condition is TRUE\n",
    "}\n",
    "```\n",
    "\n",
    "So, an example for this :"
   ]
  },
  {
   "cell_type": "code",
   "execution_count": 28,
   "id": "under-viewer",
   "metadata": {},
   "outputs": [
    {
     "name": "stdout",
     "output_type": "stream",
     "text": [
      "2  is a even number!\n",
      "4  is a even number!\n",
      "6  is a even number!\n",
      "8  is a even number!\n",
      "10  is a even number!\n",
      "12  is a even number!\n",
      "14  is a even number!\n"
     ]
    }
   ],
   "source": [
    "# Checking even numbers between 1 and 15\n",
    "var_counter = 1\n",
    "while ( var_counter < 15 ){\n",
    "    if (var_counter%%2 == 0 ){\n",
    "        cat(var_counter,\" is a even number!\\n\")\n",
    "    }\n",
    "    var_counter=var_counter+1\n",
    "}"
   ]
  },
  {
   "cell_type": "markdown",
   "id": "deluxe-rotation",
   "metadata": {},
   "source": [
    "### 3. **repeat loop:**\n",
    "This looping construct is almost similar to the functioning of the while loop, but please note the syntax : \n",
    "\n",
    "**Syntax :**\n",
    "```\n",
    "repeat {\n",
    "    \n",
    "    # Block of statements to execute repeatedly\n",
    "    \n",
    "    if ( condition ){\n",
    "        # Block of statements to execute \n",
    "        # before exiting the repeatloop\n",
    "        break\n",
    "    }\n",
    "}\n",
    "```\n",
    "\n",
    "So, an example for this :\n"
   ]
  },
  {
   "cell_type": "code",
   "execution_count": 29,
   "id": "valuable-consensus",
   "metadata": {},
   "outputs": [
    {
     "name": "stdout",
     "output_type": "stream",
     "text": [
      "2  is a even number!\n",
      "4  is a even number!\n",
      "6  is a even number!\n",
      "8  is a even number!\n",
      "10  is a even number!\n",
      "12  is a even number!\n",
      "14  is a even number!\n",
      "\n",
      "Exiting repeat loop."
     ]
    }
   ],
   "source": [
    "# Checking even numbers between 1 and 15\n",
    "var_counter = 1\n",
    "\n",
    "repeat {\n",
    "    if (var_counter%%2 == 0 ){\n",
    "        cat(var_counter,\" is a even number!\\n\")\n",
    "    }\n",
    "\n",
    "    var_counter = var_counter + 1\n",
    "\n",
    "    if( var_counter > 15) {\n",
    "        cat(\"\\nExiting repeat loop.\")\n",
    "        break\n",
    "    }\n",
    "}"
   ]
  },
  {
   "cell_type": "markdown",
   "id": "thick-flesh",
   "metadata": {},
   "source": [
    "## Loop Control statements :\n",
    "\n",
    "There 2 types of loop control statements:\n",
    "\n",
    "| | loop control name |use|\n",
    "|--|:-|--|\n",
    "|**1.**|**break statement**|terminate loop execution|\n",
    "|**2.**|**next statement** |skip loop execution to next counter |\n",
    "\n",
    "### 1. break :"
   ]
  },
  {
   "cell_type": "code",
   "execution_count": 30,
   "id": "worst-shuttle",
   "metadata": {},
   "outputs": [
    {
     "name": "stdout",
     "output_type": "stream",
     "text": [
      "1 \n",
      "2 \n",
      "3 \n",
      "4 \n",
      "5 \n",
      "6 \n",
      "7 \n",
      "8 \n",
      "9 \n",
      "10 \n"
     ]
    }
   ],
   "source": [
    "# [ break ]\n",
    "# break loop when var_counter > 9\n",
    "\n",
    "for ( var_counter in 1:20 ){\n",
    "    cat(var_counter,\"\\n\")\n",
    "    if ( var_counter > 9 ){\n",
    "        break\n",
    "    }\n",
    "}"
   ]
  },
  {
   "cell_type": "markdown",
   "id": "sufficient-softball",
   "metadata": {},
   "source": [
    "### 2. next :"
   ]
  },
  {
   "cell_type": "code",
   "execution_count": 31,
   "id": "genuine-condition",
   "metadata": {},
   "outputs": [
    {
     "name": "stdout",
     "output_type": "stream",
     "text": [
      "Hi Welcome See you later  "
     ]
    }
   ],
   "source": [
    "# [ next ]\n",
    "# when '!' and '.' is encontered skip them and print a space ' ' instead.\n",
    "\n",
    "for ( var_char in c(\"Hi\",\"!\", \"Welcome\",\".\", \"See you later\",\"!\",\".\") ){\n",
    "    \n",
    "    if ( (var_char == \".\") || (var_char == \"!\") ){\n",
    "        cat(\" \")\n",
    "        next\n",
    "    }\n",
    "    cat(var_char)\n",
    "}"
   ]
  },
  {
   "cell_type": "markdown",
   "id": "dangerous-manner",
   "metadata": {},
   "source": [
    "## Functions:\n",
    "\n",
    "These are blocks of code which run only when they are called. This is mostly used when wanting to reuse same code multiple times across the code.\n",
    "\n",
    "**Syntax:**\n",
    "\n",
    "**Function Definition :**\n",
    "```\n",
    "[function name] <- function( param1, param2, param3, ... ) {\n",
    "\n",
    "    # Define body of function \n",
    "    # [ Blocks of code ]\n",
    "\n",
    "    # return statement [optional] \n",
    "}\n",
    "```\n",
    "**Function calling:**\n",
    "`>> [function name]( param1, param2, param3, ... )`\n",
    "\n",
    "For example consider for **swaping two numbers:**"
   ]
  },
  {
   "cell_type": "code",
   "execution_count": 32,
   "id": "caroline-nomination",
   "metadata": {},
   "outputs": [],
   "source": [
    "# Function defenition:\n",
    "swap_2_num <- function( var1, var2) {\n",
    "    var_temp <- var1\n",
    "    var1 <- var2\n",
    "    var2 <-var_temp\n",
    "    return(c(var1,var2))\n",
    "}"
   ]
  },
  {
   "cell_type": "code",
   "execution_count": 33,
   "id": "proprietary-rogers",
   "metadata": {},
   "outputs": [
    {
     "name": "stdout",
     "output_type": "stream",
     "text": [
      "Enter your First number  : 11\n",
      "Enter your Second number : 88\n",
      "\n",
      "The numbers before swap are : \n",
      "A =  11   | B =  88 \n",
      "\n",
      "swappping!\n",
      "\n",
      "The numbers before swap are : \n",
      "A =  88   | B =  11 \n",
      "\n"
     ]
    }
   ],
   "source": [
    "# User input for two numbers and swapping these numebrs\n",
    "\n",
    "var1 <- as.integer(readline(prompt=\"Enter your First number  : \"))\n",
    "var2 <- as.integer(readline(prompt=\"Enter your Second number : \"))\n",
    "\n",
    "cat(\"\\nThe numbers before swap are : \\nA = \",var1,\"  | B = \",var2,\"\\n\\n\")\n",
    "cat(\"swappping!\\n\\n\")\n",
    "\n",
    "values = swap_2_num(var1,var2)\n",
    "\n",
    "cat(\"The numbers before swap are : \\nA = \",values[1],\"  | B = \",values[2],\"\\n\\n\")"
   ]
  },
  {
   "cell_type": "markdown",
   "id": "brazilian-airfare",
   "metadata": {},
   "source": [
    "### Functions with default parameters:\n",
    "\n",
    "For example:"
   ]
  },
  {
   "cell_type": "code",
   "execution_count": 34,
   "id": "median-performer",
   "metadata": {},
   "outputs": [
    {
     "name": "stdout",
     "output_type": "stream",
     "text": [
      "result1 =  50 \n",
      "result2 =  5 \n"
     ]
    }
   ],
   "source": [
    "# function for multiplying two numbers \n",
    "multiply <- function(a,b=1){\n",
    "    return(a*b)\n",
    "}\n",
    "\n",
    "# multiplying two numbers\n",
    "result = multiply(5,10)     # 5 * 10\n",
    "cat(\"result1 = \",result,\"\\n\")\n",
    "\n",
    "result = multiply(5)        # 5 * 1(default value when not specified in parameter) \n",
    "cat(\"result2 = \",result,\"\\n\")"
   ]
  },
  {
   "cell_type": "markdown",
   "id": "detailed-japan",
   "metadata": {},
   "source": [
    "## String Manipulations :\n",
    "\n",
    "### I. toupper() and tolower() function:\n",
    "|function name|use|\n",
    "|--|--|\n",
    "|**toupper()**| To capitalise all the letters present in your string.|\n",
    "|**tolower()**|To change all the letters present in your string to lower case letters.|\n",
    "\n",
    "For example:"
   ]
  },
  {
   "cell_type": "code",
   "execution_count": 35,
   "id": "constant-racing",
   "metadata": {},
   "outputs": [
    {
     "name": "stdout",
     "output_type": "stream",
     "text": [
      "Original   string =  Bottled Fresh Juices. Buy 1 get 1 Free! \n",
      "\n",
      "Upper case string =  BOTTLED FRESH JUICES. BUY 1 GET 1 FREE! \n",
      "\n",
      "Lower case string =  bottled fresh juices. buy 1 get 1 free!"
     ]
    }
   ],
   "source": [
    "var_string = \"Bottled Fresh Juices. Buy 1 get 1 Free!\"\n",
    "\n",
    "cat(\"Original   string = \",(var_string),\"\\n\\n\")\n",
    "cat(\"Upper case string = \",toupper(var_string),\"\\n\\n\")\n",
    "cat(\"Lower case string = \",tolower(var_string))"
   ]
  },
  {
   "cell_type": "markdown",
   "id": "flying-verification",
   "metadata": {},
   "source": [
    "### II. Sub-String \\[ substring() / substr() \\] :\n",
    "\n",
    "This function is used in order to extract specific slice from a string.\n",
    "\n",
    "**Syntax:**\n",
    "\n",
    "`substring( string_value, start, stop )`\n",
    "\n",
    "or\n",
    "\n",
    "`substr( string_value, start, stop )   `\n",
    "\n",
    "\n",
    "An example :"
   ]
  },
  {
   "cell_type": "code",
   "execution_count": 36,
   "id": "explicit-potter",
   "metadata": {},
   "outputs": [
    {
     "data": {
      "text/html": [
       "'rmelon'"
      ],
      "text/latex": [
       "'rmelon'"
      ],
      "text/markdown": [
       "'rmelon'"
      ],
      "text/plain": [
       "[1] \"rmelon\""
      ]
     },
     "metadata": {},
     "output_type": "display_data"
    }
   ],
   "source": [
    "# applying substring on a string slicing from 5th to 10th index\n",
    "\n",
    "substring(\"watermelon\",5,10)   # or substr(\"watermelon\",5,10)"
   ]
  },
  {
   "cell_type": "code",
   "execution_count": 37,
   "id": "lined-metallic",
   "metadata": {},
   "outputs": [
    {
     "data": {
      "text/html": [
       "<ol class=list-inline>\n",
       "\t<li>'raw'</li>\n",
       "\t<li>'ple'</li>\n",
       "\t<li>'ngo'</li>\n",
       "</ol>\n"
      ],
      "text/latex": [
       "\\begin{enumerate*}\n",
       "\\item 'raw'\n",
       "\\item 'ple'\n",
       "\\item 'ngo'\n",
       "\\end{enumerate*}\n"
      ],
      "text/markdown": [
       "1. 'raw'\n",
       "2. 'ple'\n",
       "3. 'ngo'\n",
       "\n",
       "\n"
      ],
      "text/plain": [
       "[1] \"raw\" \"ple\" \"ngo\""
      ]
     },
     "metadata": {},
     "output_type": "display_data"
    }
   ],
   "source": [
    "# applying substring on a vector of elements\n",
    "x <- c(\"strawberry\", \"apple\", \"mango\")\n",
    "substr(x, 3, 5)"
   ]
  },
  {
   "cell_type": "markdown",
   "id": "fiscal-judges",
   "metadata": {},
   "source": [
    "### III. String concatenation \\[ paste function \\] :\n",
    "\n",
    "**paste()** is a function used for concatenation of multiple strings into a single string.\n",
    "\n",
    "**Syntax:**\n",
    "\n",
    "`paste( str1, str2, str3, ... , sep=[separator value], collapse= [collapse value])`\n",
    "\n",
    "|parameter| use |default|\n",
    "|--|--|--|\n",
    "|**sep**|Used to show the separation between the strings passed as parameters|`' '`|\n",
    "|**collapse**|Used to remove the space between two strings|`NULL`|\n",
    "\n",
    "Consider Example:"
   ]
  },
  {
   "cell_type": "code",
   "execution_count": 38,
   "id": "conscious-ballet",
   "metadata": {},
   "outputs": [
    {
     "data": {
      "text/html": [
       "'Hi!______Welcome back!______How are you?'"
      ],
      "text/latex": [
       "'Hi!\\_\\_\\_\\_\\_\\_Welcome back!\\_\\_\\_\\_\\_\\_How are you?'"
      ],
      "text/markdown": [
       "'Hi!______Welcome back!______How are you?'"
      ],
      "text/plain": [
       "[1] \"Hi!______Welcome back!______How are you?\""
      ]
     },
     "metadata": {},
     "output_type": "display_data"
    }
   ],
   "source": [
    "# Example for paste - sep :\n",
    "str1 <- \"Hi!\"\n",
    "str2 <- \"Welcome back!\"\n",
    "str3 <- \"How are you?\"\n",
    "\n",
    "paste(str1,str2,str3,sep=\"______\")"
   ]
  },
  {
   "cell_type": "code",
   "execution_count": 39,
   "id": "analyzed-legend",
   "metadata": {},
   "outputs": [
    {
     "data": {
      "text/html": [
       "'L OM PN Q'"
      ],
      "text/latex": [
       "'L OM PN Q'"
      ],
      "text/markdown": [
       "'L OM PN Q'"
      ],
      "text/plain": [
       "[1] \"L OM PN Q\""
      ]
     },
     "metadata": {},
     "output_type": "display_data"
    }
   ],
   "source": [
    "# Example for paste - collapse :\n",
    "paste(c(\"L\", \"M\", \"N\"), \n",
    "      c(\"O\", \"P\", \"Q\"), collapse = '')"
   ]
  },
  {
   "cell_type": "markdown",
   "id": "elementary-attitude",
   "metadata": {},
   "source": [
    "## Comments:\n",
    "These are the additional text that is added to explain the written code. It is mainly used to make the code more understandable. Comments can be written either in a single line or across multiple lines.\n",
    "\n",
    "### 1. **Single Line comments**:\n",
    "This is written by typing a ' # ' at the start of the line. For example:\n",
    "\n"
   ]
  },
  {
   "cell_type": "code",
   "execution_count": 40,
   "id": "electric-selection",
   "metadata": {},
   "outputs": [],
   "source": [
    "# This is a single line comment."
   ]
  },
  {
   "cell_type": "markdown",
   "id": "other-double",
   "metadata": {},
   "source": [
    "### 2. **MultiLine comments:** \n",
    "This is  written by enclosing the text in a false if condition."
   ]
  },
  {
   "cell_type": "code",
   "execution_count": 41,
   "id": "ordered-parker",
   "metadata": {},
   "outputs": [],
   "source": [
    "if (FALSE){\n",
    "    \"This is a multiline comment enclosed \n",
    "        in an False if condition.\"\n",
    "}"
   ]
  },
  {
   "cell_type": "markdown",
   "id": "motivated-connection",
   "metadata": {},
   "source": [
    "### Data Frames:\n",
    "This is data stored in the form of rows and column as in a matrix such that each column contains a different type of data and each row is indexed.\n",
    "\n",
    "**For example:** *consider the following dataframe which has data about housing:*"
   ]
  },
  {
   "cell_type": "code",
   "execution_count": 42,
   "id": "former-elizabeth",
   "metadata": {},
   "outputs": [
    {
     "data": {
      "text/html": [
       "<table>\n",
       "<thead><tr><th scope=col>name</th><th scope=col>location</th><th scope=col>bedrooms</th><th scope=col>bathrooms</th><th scope=col>kitchen</th><th scope=col>family_only</th><th scope=col>price</th></tr></thead>\n",
       "<tbody>\n",
       "\t<tr><td>Beverly Hills  </td><td>Pashan         </td><td>2              </td><td>2              </td><td>1              </td><td> TRUE          </td><td>10000          </td></tr>\n",
       "\t<tr><td>Bright sunshine</td><td>Baner          </td><td>1              </td><td>1              </td><td>1              </td><td>FALSE          </td><td> 7000          </td></tr>\n",
       "\t<tr><td>Golden Mist    </td><td>Aundh          </td><td>3              </td><td>4              </td><td>2              </td><td> TRUE          </td><td>15000          </td></tr>\n",
       "</tbody>\n",
       "</table>\n"
      ],
      "text/latex": [
       "\\begin{tabular}{r|lllllll}\n",
       " name & location & bedrooms & bathrooms & kitchen & family\\_only & price\\\\\n",
       "\\hline\n",
       "\t Beverly Hills   & Pashan          & 2               & 2               & 1               &  TRUE           & 10000          \\\\\n",
       "\t Bright sunshine & Baner           & 1               & 1               & 1               & FALSE           &  7000          \\\\\n",
       "\t Golden Mist     & Aundh           & 3               & 4               & 2               &  TRUE           & 15000          \\\\\n",
       "\\end{tabular}\n"
      ],
      "text/markdown": [
       "\n",
       "| name | location | bedrooms | bathrooms | kitchen | family_only | price |\n",
       "|---|---|---|---|---|---|---|\n",
       "| Beverly Hills   | Pashan          | 2               | 2               | 1               |  TRUE           | 10000           |\n",
       "| Bright sunshine | Baner           | 1               | 1               | 1               | FALSE           |  7000           |\n",
       "| Golden Mist     | Aundh           | 3               | 4               | 2               |  TRUE           | 15000           |\n",
       "\n"
      ],
      "text/plain": [
       "  name            location bedrooms bathrooms kitchen family_only price\n",
       "1 Beverly Hills   Pashan   2        2         1        TRUE       10000\n",
       "2 Bright sunshine Baner    1        1         1       FALSE        7000\n",
       "3 Golden Mist     Aundh    3        4         2        TRUE       15000"
      ]
     },
     "metadata": {},
     "output_type": "display_data"
    }
   ],
   "source": [
    "house_data <- data.frame(\n",
    "    name     = c( \"Beverly Hills\", \"Bright sunshine\", \"Golden Mist\"),\n",
    "    location = c( \"Pashan\", \"Baner\", \"Aundh\" ),\n",
    "    bedrooms = c( 2, 1, 3 ),\n",
    "    bathrooms= c( 2, 1, 4 ),\n",
    "    kitchen  = c( 1, 1, 2 ),\n",
    "    family_only= c( TRUE, FALSE, TRUE),\n",
    "    price    = c( 10000, 7000 , 15000 )\n",
    ")\n",
    "\n",
    "house_data"
   ]
  },
  {
   "cell_type": "code",
   "execution_count": null,
   "id": "polyphonic-vocabulary",
   "metadata": {},
   "outputs": [],
   "source": []
  },
  {
   "cell_type": "code",
   "execution_count": null,
   "id": "natural-rendering",
   "metadata": {},
   "outputs": [],
   "source": []
  },
  {
   "cell_type": "markdown",
   "id": "perfect-shoot",
   "metadata": {},
   "source": [
    "```\n",
    "More comming soon...\n",
    "```\n",
    "<hr>"
   ]
  }
 ],
 "metadata": {
  "kernelspec": {
   "display_name": "R",
   "language": "R",
   "name": "ir"
  },
  "language_info": {
   "codemirror_mode": "r",
   "file_extension": ".r",
   "mimetype": "text/x-r-source",
   "name": "R",
   "pygments_lexer": "r",
   "version": "3.6.1"
  }
 },
 "nbformat": 4,
 "nbformat_minor": 5
}
