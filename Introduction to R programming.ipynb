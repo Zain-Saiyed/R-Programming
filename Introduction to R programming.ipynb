{
 "cells": [
  {
   "cell_type": "markdown",
   "metadata": {},
   "source": [
    "# Introduction to R - programming : <img src=\"https://upload.wikimedia.org/wikipedia/commons/thumb/1/1b/R_logo.svg/724px-R_logo.svg.png\" width=100 alt=\"Introduction to R programming \" style=\"float:right\">"
   ]
  },
  {
   "cell_type": "markdown",
   "metadata": {},
   "source": [
    "##### Q. What is the file extension of R scripts? and, How to run R scripts?\n",
    "**A.** The R script files are saved with **.R** extension. \n",
    "Example : \" EDA_titanic.R  \"\n",
    "\n",
    "**To run R script:**\n",
    "\n",
    "First, open your terminal or cmd with R enviornment activated. <br>\n",
    "Second, run the following command : \n",
    "<br>`Syntax : Rscript \\[ filename \\].R`\n",
    "\n",
    "Example  :\n",
    "```>> Rscript EDA_titanic.R```"
   ]
  },
  {
   "cell_type": "markdown",
   "metadata": {},
   "source": [
    "## Input - Output :\n",
    "\n",
    "#### print() function : \n",
    "This function is used to print text passed to it on the screen. For example : "
   ]
  },
  {
   "cell_type": "code",
   "execution_count": 1,
   "metadata": {},
   "outputs": [
    {
     "name": "stdout",
     "output_type": "stream",
     "text": [
      "[1] \"Welcome to R programming!\"\n"
     ]
    }
   ],
   "source": [
    "print(\"Welcome to R programming!\")"
   ]
  },
  {
   "cell_type": "markdown",
   "metadata": {},
   "source": [
    "#### readline() function:\n",
    "This function is used for accepting input from the user. By defualt the input is stored as character data type. For example :"
   ]
  },
  {
   "cell_type": "code",
   "execution_count": 2,
   "metadata": {},
   "outputs": [
    {
     "name": "stdout",
     "output_type": "stream",
     "text": [
      "Please Enter your name: Louis de Broglie\n"
     ]
    }
   ],
   "source": [
    "user_name <- readline(prompt=\"Please Enter your name: \")"
   ]
  },
  {
   "cell_type": "code",
   "execution_count": 3,
   "metadata": {},
   "outputs": [
    {
     "name": "stdout",
     "output_type": "stream",
     "text": [
      "[1] \"Louis de Broglie\"\n"
     ]
    }
   ],
   "source": [
    "# printing output stored in variable\n",
    "print(user_name)"
   ]
  },
  {
   "cell_type": "markdown",
   "metadata": {},
   "source": [
    "## Variables:\n",
    "These are the containers which store the values in it. These variables or containers can hold different types of data values or data types in them. \n",
    "\n",
    "### Data Types in R :\n",
    "There are many different types of data types objects in R, which are :\n",
    "1. **Boolean :** Logical values - `TRUE` or `FALSE`\n",
    "2. **Characters :** Strings or characters - `\"Z\"` , `\"Welcome!\"`\n",
    "3. **Numeric :** Decial or Real values - `3.14`, `4`\n",
    "4. **Integers :** Non decimal numbers - `4L`  \n",
    "5. **Complex :** real + Imaginary numbers - `3+9i` ( Of the form: a+bi )\n",
    "\n",
    "\n",
    "Lets create a string with variable name- 'greet' :"
   ]
  },
  {
   "cell_type": "code",
   "execution_count": 4,
   "metadata": {},
   "outputs": [],
   "source": [
    "# 1. \n",
    "var_bool <- TRUE\n",
    "# 2. \n",
    "var_greet <- \"Welcome!\"\n",
    "# 3.\n",
    "var_number <- 3.14\n",
    "# 4.\n",
    "var_int <- 4L\n",
    "# 5.\n",
    "var_cmplx <- 3+9i"
   ]
  },
  {
   "cell_type": "markdown",
   "metadata": {},
   "source": [
    "To check the datatype of a variable we use the `typeof()` function. For example to check datatype of var_bool :"
   ]
  },
  {
   "cell_type": "code",
   "execution_count": 5,
   "metadata": {},
   "outputs": [
    {
     "name": "stdout",
     "output_type": "stream",
     "text": [
      "[1] \"Type of var_bool : \"\n"
     ]
    },
    {
     "data": {
      "text/html": [
       "'logical'"
      ],
      "text/latex": [
       "'logical'"
      ],
      "text/markdown": [
       "'logical'"
      ],
      "text/plain": [
       "[1] \"logical\""
      ]
     },
     "metadata": {},
     "output_type": "display_data"
    },
    {
     "name": "stdout",
     "output_type": "stream",
     "text": [
      "[1] \"Type of var_greet : \"\n"
     ]
    },
    {
     "data": {
      "text/html": [
       "'character'"
      ],
      "text/latex": [
       "'character'"
      ],
      "text/markdown": [
       "'character'"
      ],
      "text/plain": [
       "[1] \"character\""
      ]
     },
     "metadata": {},
     "output_type": "display_data"
    },
    {
     "name": "stdout",
     "output_type": "stream",
     "text": [
      "[1] \"Type of var_number : \"\n"
     ]
    },
    {
     "data": {
      "text/html": [
       "'double'"
      ],
      "text/latex": [
       "'double'"
      ],
      "text/markdown": [
       "'double'"
      ],
      "text/plain": [
       "[1] \"double\""
      ]
     },
     "metadata": {},
     "output_type": "display_data"
    },
    {
     "name": "stdout",
     "output_type": "stream",
     "text": [
      "[1] \"Type of var_int : \"\n"
     ]
    },
    {
     "data": {
      "text/html": [
       "'integer'"
      ],
      "text/latex": [
       "'integer'"
      ],
      "text/markdown": [
       "'integer'"
      ],
      "text/plain": [
       "[1] \"integer\""
      ]
     },
     "metadata": {},
     "output_type": "display_data"
    },
    {
     "name": "stdout",
     "output_type": "stream",
     "text": [
      "[1] \"Type of var_cmplx : \"\n"
     ]
    },
    {
     "data": {
      "text/html": [
       "'complex'"
      ],
      "text/latex": [
       "'complex'"
      ],
      "text/markdown": [
       "'complex'"
      ],
      "text/plain": [
       "[1] \"complex\""
      ]
     },
     "metadata": {},
     "output_type": "display_data"
    }
   ],
   "source": [
    "# Types of : \n",
    "# 1.\n",
    "print(\"Type of var_bool : \")\n",
    "typeof(var_bool)\n",
    "# 2.\n",
    "print(\"Type of var_greet : \")\n",
    "typeof(var_greet)\n",
    "# 3.\n",
    "print(\"Type of var_number : \")\n",
    "typeof(var_number)\n",
    "# 4.\n",
    "print(\"Type of var_int : \")\n",
    "typeof(var_int)\n",
    "# 5.\n",
    "print(\"Type of var_cmplx : \")\n",
    "typeof(var_cmplx)"
   ]
  },
  {
   "cell_type": "markdown",
   "metadata": {},
   "source": [
    "## Variable Assignment operators:\n",
    "The values to the variables can be assigned in three different ways :\n",
    "\n",
    "|Assignment type|Syntax|\n",
    "|--|--|\n",
    "|**Leftward** operator | `[variable] <- [value]`|\n",
    "|**Rightward** operator|`    [value] -> [variable]`|\n",
    "|**Equals to** operator|` [variable] =  [value]`|\n"
   ]
  },
  {
   "cell_type": "code",
   "execution_count": 6,
   "metadata": {},
   "outputs": [
    {
     "name": "stdout",
     "output_type": "stream",
     "text": [
      "Leftward  :  15.36 \n",
      "Rightward :  999.9 \n",
      "Equals to :  2 \n"
     ]
    }
   ],
   "source": [
    "# 1. \n",
    "var_num <- 15.36\n",
    "cat(\"Leftward  : \",var_num,\"\\n\")\n",
    "\n",
    "# 2. \n",
    "999.9 -> var_num\n",
    "cat(\"Rightward : \",var_num,\"\\n\")\n",
    "\n",
    "# 3. \n",
    "var_num = 2L\n",
    "cat(\"Equals to : \",var_num,\"\\n\")"
   ]
  },
  {
   "cell_type": "markdown",
   "metadata": {},
   "source": [
    "## Different Operator types:\n",
    "There are different types of operators :\n",
    "\n",
    "### 1. **Arithmetic Operators:**\n",
    "Arithmetic operations includes : \n",
    "\n",
    "| Arithmetic Operator | |\n",
    "|--|--|\n",
    "|**+**| Addition|\n",
    "|**-**| Subtraction|\n",
    "|**\\***| Multiplication|\n",
    "|**/**| Division|\n",
    "|**%%**| Remainder|\n",
    "|**^**| Exponent|\n",
    "|**%/%**| Quotient|\n",
    "\n",
    "For example :"
   ]
  },
  {
   "cell_type": "code",
   "execution_count": 7,
   "metadata": {},
   "outputs": [
    {
     "name": "stdout",
     "output_type": "stream",
     "text": [
      "var_num = 44 \n",
      "var_num = 50 \n",
      "var_num = 30 \n",
      "var_num = 60 \n",
      "var_num = 20 \n",
      "var_num = 400 \n",
      "var_num = 0 \n",
      "var_num = 80 \n"
     ]
    }
   ],
   "source": [
    "var_num <- 44                     # Assignment \n",
    "cat(\"var_num =\", var_num,\"\\n\")\n",
    "\n",
    "var_num = var_num + 6             # 44 + 6\n",
    "cat(\"var_num =\", var_num,\"\\n\")\n",
    "\n",
    "var_num = var_num - 20            # 50 - 20\n",
    "cat(\"var_num =\", var_num,\"\\n\")\n",
    "\n",
    "var_num = var_num * 2            # 30*2\n",
    "cat(\"var_num =\", var_num,\"\\n\")\n",
    "\n",
    "var_num = var_num / 3             # 60 / 3 \n",
    "cat(\"var_num =\", var_num,\"\\n\")\n",
    "\n",
    "var_num = var_num ^ 2             # 20^2 = 20*20 \n",
    "cat(\"var_num =\", var_num,\"\\n\")\n",
    "\n",
    "var_num = var_num %% 5             # 400 is divisible by 5. Hence Remainder = 0\n",
    "cat(\"var_num =\", var_num,\"\\n\")\n",
    "\n",
    "var_num <-400\n",
    "var_num = var_num %/% 5            # when 400 / 5. Quotient = 80\n",
    "cat(\"var_num =\", var_num,\"\\n\")"
   ]
  },
  {
   "cell_type": "markdown",
   "metadata": {},
   "source": [
    "### 2. **Comparison Operators:**\n",
    "This includes : \n",
    "| Relational Operator | |\n",
    "|--|--|\n",
    "|**<**| Less than |\n",
    "|**>**| More than|\n",
    "|**<=**| Less than equal|\n",
    "|**>=**| Greator than equal|\n",
    "|**==**| Equals |\n",
    "|**!=**| Not Equals|"
   ]
  },
  {
   "cell_type": "code",
   "execution_count": 8,
   "metadata": {},
   "outputs": [
    {
     "name": "stdout",
     "output_type": "stream",
     "text": [
      "400    <   200 = FALSE \n",
      "\n",
      "200    >=  200 = TRUE \n",
      "\n",
      "200%%2 ==   0  = FALSE \n",
      "\n",
      "33     !=   22 = FALSE \n"
     ]
    }
   ],
   "source": [
    "var_res <- 400 < 200\n",
    "cat(\"400    <   200 =\", var_res,\"\\n\\n\")\n",
    "\n",
    "var_res <- 200 >= 200\n",
    "cat(\"200    >=  200 =\", var_res,\"\\n\\n\")\n",
    "\n",
    "var_res <- 200%%2 != 0 \n",
    "cat(\"200%%2 ==   0  =\", var_res,\"\\n\\n\")\n",
    "\n",
    "var_res <- 33 == 22\n",
    "cat(\"33     !=   22 =\", var_res,\"\\n\")\n"
   ]
  },
  {
   "cell_type": "markdown",
   "metadata": {},
   "source": [
    "### 3. **Logical Operators:**\n",
    "These are used when we want to compare multiple conditions returning a boolean value. This includes : \n",
    "| Logical Operator | |\n",
    "|--|--|\n",
    "|**\\|\\|**| Logical OR |\n",
    "|**!**| Logical NOT|\n",
    "|**&&**| Logical AND|\n",
    "\n",
    "For example consider :"
   ]
  },
  {
   "cell_type": "code",
   "execution_count": 9,
   "metadata": {},
   "outputs": [
    {
     "data": {
      "text/html": [
       "TRUE"
      ],
      "text/latex": [
       "TRUE"
      ],
      "text/markdown": [
       "TRUE"
      ],
      "text/plain": [
       "[1] TRUE"
      ]
     },
     "metadata": {},
     "output_type": "display_data"
    }
   ],
   "source": [
    "# True  OR   FALSE  = TRUE\n",
    "5<9     ||   1>2"
   ]
  },
  {
   "cell_type": "code",
   "execution_count": 10,
   "metadata": {},
   "outputs": [
    {
     "data": {
      "text/html": [
       "FALSE"
      ],
      "text/latex": [
       "FALSE"
      ],
      "text/markdown": [
       "FALSE"
      ],
      "text/plain": [
       "[1] FALSE"
      ]
     },
     "metadata": {},
     "output_type": "display_data"
    }
   ],
   "source": [
    "# True  AND  FALSE  = FALSE\n",
    "5<9     &&   1>2"
   ]
  },
  {
   "cell_type": "code",
   "execution_count": 11,
   "metadata": {},
   "outputs": [
    {
     "data": {
      "text/html": [
       "TRUE"
      ],
      "text/latex": [
       "TRUE"
      ],
      "text/markdown": [
       "TRUE"
      ],
      "text/plain": [
       "[1] TRUE"
      ]
     },
     "metadata": {},
     "output_type": "display_data"
    }
   ],
   "source": [
    "# 1 is not equal to 5 = TRUE\n",
    "1 != 5"
   ]
  },
  {
   "cell_type": "markdown",
   "metadata": {},
   "source": [
    "### 4. **Membership Operators:**\n",
    "\n",
    "| Membership Operator | |\n",
    "|--|--|\n",
    "|**%in%**| Used to check if an element is present in other object |\n"
   ]
  },
  {
   "cell_type": "code",
   "execution_count": 12,
   "metadata": {},
   "outputs": [
    {
     "data": {
      "text/html": [
       "<ol class=list-inline>\n",
       "\t<li>1</li>\n",
       "\t<li>2</li>\n",
       "\t<li>3</li>\n",
       "\t<li>4</li>\n",
       "\t<li>5</li>\n",
       "</ol>\n"
      ],
      "text/latex": [
       "\\begin{enumerate*}\n",
       "\\item 1\n",
       "\\item 2\n",
       "\\item 3\n",
       "\\item 4\n",
       "\\item 5\n",
       "\\end{enumerate*}\n"
      ],
      "text/markdown": [
       "1. 1\n",
       "2. 2\n",
       "3. 3\n",
       "4. 4\n",
       "5. 5\n",
       "\n",
       "\n"
      ],
      "text/plain": [
       "[1] 1 2 3 4 5"
      ]
     },
     "metadata": {},
     "output_type": "display_data"
    }
   ],
   "source": [
    "var_vector = c(1:5)\n",
    "var_vector"
   ]
  },
  {
   "cell_type": "code",
   "execution_count": 13,
   "metadata": {},
   "outputs": [
    {
     "data": {
      "text/html": [
       "TRUE"
      ],
      "text/latex": [
       "TRUE"
      ],
      "text/markdown": [
       "TRUE"
      ],
      "text/plain": [
       "[1] TRUE"
      ]
     },
     "metadata": {},
     "output_type": "display_data"
    }
   ],
   "source": [
    "# since number 5 is present in vector \"var_vector\" \n",
    "# output : TRUE\n",
    "\n",
    "5 %in% var_vector"
   ]
  },
  {
   "cell_type": "code",
   "execution_count": 14,
   "metadata": {},
   "outputs": [
    {
     "data": {
      "text/html": [
       "FALSE"
      ],
      "text/latex": [
       "FALSE"
      ],
      "text/markdown": [
       "FALSE"
      ],
      "text/plain": [
       "[1] FALSE"
      ]
     },
     "metadata": {},
     "output_type": "display_data"
    }
   ],
   "source": [
    "# since number 15 is NOT present in vector \"var_vector\" \n",
    "# output : FALSE\n",
    "\n",
    "15 %in% var_vector"
   ]
  },
  {
   "cell_type": "markdown",
   "metadata": {},
   "source": [
    "## Vectors :\n",
    "Vector is a collection of multiple elements which are of the same datatype. \n",
    "These can be created using the `c()` function. "
   ]
  },
  {
   "cell_type": "code",
   "execution_count": 15,
   "metadata": {},
   "outputs": [
    {
     "name": "stdout",
     "output_type": "stream",
     "text": [
      "[1] 1 2 3 5 7\n",
      "[1] \"double\"\n"
     ]
    }
   ],
   "source": [
    "# Vector example:\n",
    "var_vector <- c(1,2,3,5,7)\n",
    "print(var_vector)\n",
    "\n",
    "# printing typeof vector \n",
    "print(typeof(var_vector))"
   ]
  },
  {
   "cell_type": "markdown",
   "metadata": {},
   "source": [
    "If a vector is created with different types of data type elements present inside then it forces the element to be a higher data type <br>i.e. **boolean < integer < double < character**.\n",
    "\n",
    "Consider the following example: "
   ]
  },
  {
   "cell_type": "code",
   "execution_count": 16,
   "metadata": {},
   "outputs": [
    {
     "name": "stdout",
     "output_type": "stream",
     "text": [
      "[1] \"integer\"\n"
     ]
    }
   ],
   "source": [
    "# Below is a vector with a single Integer number\n",
    "var_vector <- c( 10L )\n",
    "print(typeof(var_vector))"
   ]
  },
  {
   "cell_type": "code",
   "execution_count": 17,
   "metadata": {},
   "outputs": [
    {
     "name": "stdout",
     "output_type": "stream",
     "text": [
      "[1] \"double\"\n"
     ]
    }
   ],
   "source": [
    "# below is a vector with a Integer number and a double number \n",
    "var_vector <- c( 10L , 3.14)\n",
    "print(typeof(var_vector))"
   ]
  },
  {
   "cell_type": "code",
   "execution_count": 18,
   "metadata": {},
   "outputs": [
    {
     "name": "stdout",
     "output_type": "stream",
     "text": [
      "[1] \"character\"\n"
     ]
    }
   ],
   "source": [
    "# below is a vector with a Integer, double and a character datatype  \n",
    "var_vector <- c( 10L , 3.14, \"Pi value\")\n",
    "print(typeof(var_vector))"
   ]
  },
  {
   "cell_type": "markdown",
   "metadata": {},
   "source": [
    "## Lists :\n",
    "List is an object which holds multiple elements like functions, vectors variables etc. It can be created using the `list()` function."
   ]
  },
  {
   "cell_type": "code",
   "execution_count": 19,
   "metadata": {},
   "outputs": [
    {
     "name": "stdout",
     "output_type": "stream",
     "text": [
      "[[1]]\n",
      "[1] 3.14\n",
      "\n",
      "[[2]]\n",
      "[1] 11 13 17\n",
      "\n",
      "[[3]]\n",
      "[1] TRUE\n",
      "\n"
     ]
    }
   ],
   "source": [
    "var_list <- list( 3.14, c(11,13,17), TRUE )\n",
    "print(var_list)"
   ]
  },
  {
   "cell_type": "markdown",
   "metadata": {},
   "source": [
    "**Each of the elements present in the list can be assigned names.**\n",
    "\n",
    "For example in the above var_list if we want to assign each of the elements name as \"pi value\", \"numbers\",\"boolean\" then:"
   ]
  },
  {
   "cell_type": "code",
   "execution_count": 20,
   "metadata": {},
   "outputs": [
    {
     "data": {
      "text/html": [
       "<strong>$`pi value`</strong> = 3.14"
      ],
      "text/latex": [
       "\\textbf{\\$`pi value`} = 3.14"
      ],
      "text/markdown": [
       "**$`pi value`** = 3.14"
      ],
      "text/plain": [
       "$`pi value`\n",
       "[1] 3.14\n"
      ]
     },
     "metadata": {},
     "output_type": "display_data"
    }
   ],
   "source": [
    "# Assigniing names\n",
    "names(var_list) <- c(\"pi value\", \"numbers\",\"boolean\" ) \n",
    "\n",
    "# Accessing the First element : pi value\n",
    "var_list[1]"
   ]
  },
  {
   "cell_type": "markdown",
   "metadata": {},
   "source": [
    "#### Manipulating and Merging Lists:\n",
    "\n",
    "First Lets create a list with multiple types of elements:"
   ]
  },
  {
   "cell_type": "code",
   "execution_count": 21,
   "metadata": {},
   "outputs": [
    {
     "name": "stdout",
     "output_type": "stream",
     "text": [
      "The length of list =  3 \n",
      "\n",
      "[[1]]\n",
      "[[1]][[1]]\n",
      "[1] \"pi\"\n",
      "\n",
      "[[1]][[2]]\n",
      "[1] 3.14\n",
      "\n",
      "\n",
      "[[2]]\n",
      "[1] \"Pizza\"    \"Burger\"   \"Vada Pav\"\n",
      "\n",
      "[[3]]\n",
      "     [,1] [,2]\n",
      "[1,]    1    3\n",
      "[2,]    2    4\n",
      "\n"
     ]
    }
   ],
   "source": [
    "# Creating List :\n",
    "var_list <- list( list(\"pi\",3.14), c(\"Pizza\",\"Burger\",\"Vada Pav\"), matrix(c(1,2,3,4), nrow = 2)) \n",
    "cat(\"The length of list = \",length(var_list),\"\\n\\n\")\n",
    "print(var_list)"
   ]
  },
  {
   "cell_type": "markdown",
   "metadata": {},
   "source": [
    "**1. Adding a new element at the end of the list :**"
   ]
  },
  {
   "cell_type": "code",
   "execution_count": 22,
   "metadata": {},
   "outputs": [
    {
     "name": "stdout",
     "output_type": "stream",
     "text": [
      "The length of list before appending =  3 \n",
      "\n",
      "The length of list after  appending =  4 \n",
      "\n",
      "List :[[1]]\n",
      "[[1]][[1]]\n",
      "[1] \"pi\"\n",
      "\n",
      "[[1]][[2]]\n",
      "[1] 3.14\n",
      "\n",
      "\n",
      "[[2]]\n",
      "[1] \"Pizza\"    \"Burger\"   \"Vada Pav\"\n",
      "\n",
      "[[3]]\n",
      "     [,1] [,2]\n",
      "[1,]    1    3\n",
      "[2,]    2    4\n",
      "\n",
      "[[4]]\n",
      "[[4]][[1]]\n",
      "[1] \"Golden ratio\"\n",
      "\n",
      "[[4]][[2]]\n",
      "[1] 1.618\n",
      "\n",
      "\n"
     ]
    }
   ],
   "source": [
    "cat(\"The length of list before appending = \",length(var_list),\"\\n\\n\")\n",
    "var_list[length(var_list)+1] = list(list(\"Golden ratio\",1.618))\n",
    "cat(\"The length of list after  appending = \",length(var_list),\"\\n\\nList :\")\n",
    "print(var_list)"
   ]
  },
  {
   "cell_type": "markdown",
   "metadata": {},
   "source": [
    "**2. Removing First Element of list :**\n",
    "\n",
    "By assigning NULL to an list index will remove that element present at that index. "
   ]
  },
  {
   "cell_type": "code",
   "execution_count": 23,
   "metadata": {},
   "outputs": [
    {
     "name": "stdout",
     "output_type": "stream",
     "text": [
      "The length of list before removing first element =  4 \n"
     ]
    }
   ],
   "source": [
    "cat(\"The length of list before removing first element = \",length(var_list),\"\\n\")"
   ]
  },
  {
   "cell_type": "code",
   "execution_count": 24,
   "metadata": {},
   "outputs": [
    {
     "name": "stdout",
     "output_type": "stream",
     "text": [
      "The length of list after removing first element =  3 \n",
      "\n",
      "List :[[1]]\n",
      "[1] \"Pizza\"    \"Burger\"   \"Vada Pav\"\n",
      "\n",
      "[[2]]\n",
      "     [,1] [,2]\n",
      "[1,]    1    3\n",
      "[2,]    2    4\n",
      "\n",
      "[[3]]\n",
      "[[3]][[1]]\n",
      "[1] \"Golden ratio\"\n",
      "\n",
      "[[3]][[2]]\n",
      "[1] 1.618\n",
      "\n",
      "\n"
     ]
    }
   ],
   "source": [
    "var_list[1] <- NULL\n",
    "cat(\"The length of list after removing first element = \",length(var_list),\"\\n\\nList :\")\n",
    "print(var_list)"
   ]
  },
  {
   "cell_type": "markdown",
   "metadata": {},
   "source": [
    "**3. Merging two lists :**"
   ]
  },
  {
   "cell_type": "code",
   "execution_count": 25,
   "metadata": {},
   "outputs": [
    {
     "name": "stdout",
     "output_type": "stream",
     "text": [
      "Physical constants are :\n",
      "\n"
     ]
    },
    {
     "data": {
      "text/html": [
       "<ol>\n",
       "\t<li>299792458</li>\n",
       "\t<li>1.602e-19</li>\n",
       "\t<li>6.626e-34</li>\n",
       "</ol>\n"
      ],
      "text/latex": [
       "\\begin{enumerate}\n",
       "\\item 299792458\n",
       "\\item 1.602e-19\n",
       "\\item 6.626e-34\n",
       "\\end{enumerate}\n"
      ],
      "text/markdown": [
       "1. 299792458\n",
       "2. 1.602e-19\n",
       "3. 6.626e-34\n",
       "\n",
       "\n"
      ],
      "text/plain": [
       "[[1]]\n",
       "[1] 299792458\n",
       "\n",
       "[[2]]\n",
       "[1] 1.602e-19\n",
       "\n",
       "[[3]]\n",
       "[1] 6.626e-34\n"
      ]
     },
     "metadata": {},
     "output_type": "display_data"
    },
    {
     "name": "stdout",
     "output_type": "stream",
     "text": [
      "Chemical constants are :\n",
      "\n"
     ]
    },
    {
     "data": {
      "text/html": [
       "<ol>\n",
       "\t<li>6.022e+23</li>\n",
       "\t<li>96485.33</li>\n",
       "\t<li>8.314</li>\n",
       "\t<li>8.987e+09</li>\n",
       "\t<li>9.806</li>\n",
       "</ol>\n"
      ],
      "text/latex": [
       "\\begin{enumerate}\n",
       "\\item 6.022e+23\n",
       "\\item 96485.33\n",
       "\\item 8.314\n",
       "\\item 8.987e+09\n",
       "\\item 9.806\n",
       "\\end{enumerate}\n"
      ],
      "text/markdown": [
       "1. 6.022e+23\n",
       "2. 96485.33\n",
       "3. 8.314\n",
       "4. 8.987e+09\n",
       "5. 9.806\n",
       "\n",
       "\n"
      ],
      "text/plain": [
       "[[1]]\n",
       "[1] 6.022e+23\n",
       "\n",
       "[[2]]\n",
       "[1] 96485.33\n",
       "\n",
       "[[3]]\n",
       "[1] 8.314\n",
       "\n",
       "[[4]]\n",
       "[1] 8.987e+09\n",
       "\n",
       "[[5]]\n",
       "[1] 9.806\n"
      ]
     },
     "metadata": {},
     "output_type": "display_data"
    },
    {
     "name": "stdout",
     "output_type": "stream",
     "text": [
      "All constants are :\n",
      "\n"
     ]
    },
    {
     "data": {
      "text/html": [
       "<ol>\n",
       "\t<li>299792458</li>\n",
       "\t<li>1.602e-19</li>\n",
       "\t<li>6.626e-34</li>\n",
       "\t<li>6.022e+23</li>\n",
       "\t<li>96485.33</li>\n",
       "\t<li>8.314</li>\n",
       "\t<li>8.987e+09</li>\n",
       "\t<li>9.806</li>\n",
       "</ol>\n"
      ],
      "text/latex": [
       "\\begin{enumerate}\n",
       "\\item 299792458\n",
       "\\item 1.602e-19\n",
       "\\item 6.626e-34\n",
       "\\item 6.022e+23\n",
       "\\item 96485.33\n",
       "\\item 8.314\n",
       "\\item 8.987e+09\n",
       "\\item 9.806\n",
       "\\end{enumerate}\n"
      ],
      "text/markdown": [
       "1. 299792458\n",
       "2. 1.602e-19\n",
       "3. 6.626e-34\n",
       "4. 6.022e+23\n",
       "5. 96485.33\n",
       "6. 8.314\n",
       "7. 8.987e+09\n",
       "8. 9.806\n",
       "\n",
       "\n"
      ],
      "text/plain": [
       "[[1]]\n",
       "[1] 299792458\n",
       "\n",
       "[[2]]\n",
       "[1] 1.602e-19\n",
       "\n",
       "[[3]]\n",
       "[1] 6.626e-34\n",
       "\n",
       "[[4]]\n",
       "[1] 6.022e+23\n",
       "\n",
       "[[5]]\n",
       "[1] 96485.33\n",
       "\n",
       "[[6]]\n",
       "[1] 8.314\n",
       "\n",
       "[[7]]\n",
       "[1] 8.987e+09\n",
       "\n",
       "[[8]]\n",
       "[1] 9.806\n"
      ]
     },
     "metadata": {},
     "output_type": "display_data"
    }
   ],
   "source": [
    "physical_constants = list( 299792458, 1.602*10^(−19), 6.626*10^(−34) )\n",
    "chemical_constants = list( 6.022*10^(23), 96485.33, 8.314, 8.987*10^9, 9.806 )\n",
    "\n",
    "# Lets add physical and chemical constants to a single list contaning all the constants :\n",
    "all_constants <- c(physical_constants, chemical_constants)\n",
    "\n",
    "# Display physical_constants\n",
    "cat(\"Physical constants are :\\n\\n\")\n",
    "physical_constants\n",
    "\n",
    "# Display chemical_constants\n",
    "cat(\"Chemical constants are :\\n\\n\")\n",
    "chemical_constants\n",
    "\n",
    "# dispaly all_constants\n",
    "cat(\"All constants are :\\n\\n\")\n",
    "all_constants"
   ]
  },
  {
   "cell_type": "markdown",
   "metadata": {},
   "source": [
    "#### Convert Lists to vectors:\n",
    "We use the unlist() to create a vector which contains all the atomic componens occuring in the given list."
   ]
  },
  {
   "cell_type": "code",
   "execution_count": 26,
   "metadata": {},
   "outputs": [
    {
     "name": "stdout",
     "output_type": "stream",
     "text": [
      "Class Type of var_list1 ->  list \n",
      "Class Type of var_list2 ->  list \n",
      "\n",
      "Vector 1 :[1] 10 12 15\n",
      "\n",
      "\n",
      "Vector 2 :[1] 2 4 6\n",
      "\n",
      "\n",
      "Addition Result : [1] 12 16 21\n"
     ]
    }
   ],
   "source": [
    "# Creating the lists:\n",
    "var_list1 <- list(10, 12, 15)\n",
    "var_list2 <- list(2, 4, 6)\n",
    "\n",
    "# Checking Class type of above lists: \n",
    "cat(\"Class Type of var_list1 -> \",class(var_list1),\"\\n\")\n",
    "cat(\"Class Type of var_list2 -> \",class(var_list2),\"\\n\\n\")\n",
    "\n",
    "# Converting lists to vector using the unlist() function:\n",
    "vec1 <- unlist(var_list1)\n",
    "vec2 <- unlist(var_list2)\n",
    "\n",
    "# Checking Class type of newly created vectors: \n",
    "cat(\"Vector 1 :\")\n",
    "print(vec1)\n",
    "cat(\"\\n\\nVector 2 :\")\n",
    "print(vec2)\n",
    "\n",
    "# Adding the to vectors \n",
    "cat(\"\\n\\nAddition Result : \")\n",
    "print(vec2 + vec1)"
   ]
  },
  {
   "cell_type": "markdown",
   "metadata": {},
   "source": [
    "## Matrices :\n",
    "These are the 2-dimensional arrays arranged in the form of rows and columns, which can be created using the `matrix()` function.\n",
    "\n",
    "For example:\n"
   ]
  },
  {
   "cell_type": "code",
   "execution_count": 27,
   "metadata": {},
   "outputs": [
    {
     "name": "stdout",
     "output_type": "stream",
     "text": [
      "     [,1]\n",
      "[1,]    1\n",
      "[2,]    2\n",
      "[3,]    3\n",
      "[4,]    4\n",
      "[5,]    5\n",
      "[6,]    6\n",
      "[7,]    7\n",
      "[8,]    8\n"
     ]
    }
   ],
   "source": [
    "# Creating a matrix of dimension (8,1)  \n",
    "var_vector <- c(1:8)\n",
    "var_matrix <- matrix( var_vector )\n",
    "print(var_matrix)"
   ]
  },
  {
   "cell_type": "code",
   "execution_count": 28,
   "metadata": {},
   "outputs": [
    {
     "name": "stdout",
     "output_type": "stream",
     "text": [
      "     [,1] [,2]\n",
      "[1,]    1    5\n",
      "[2,]    2    6\n",
      "[3,]    3    7\n",
      "[4,]    4    8\n"
     ]
    }
   ],
   "source": [
    "# Matrix of dimenson (4,2)\n",
    "var_vector <- c(1:8)\n",
    "var_matrix <- matrix( var_vector, nrow=4,ncol=2 )\n",
    "print(var_matrix)"
   ]
  },
  {
   "cell_type": "markdown",
   "metadata": {},
   "source": [
    "**Matrix Operations:**\n",
    "\n",
    "First, Lets create two matrices:"
   ]
  },
  {
   "cell_type": "code",
   "execution_count": 29,
   "metadata": {},
   "outputs": [
    {
     "name": "stdout",
     "output_type": "stream",
     "text": [
      "Matrix 1 : \n",
      "\n",
      "     [,1] [,2]\n",
      "[1,]   -8    0\n",
      "[2,]   -4    2\n",
      "[3,]   -2    4\n",
      "\n",
      "Matrix 2 : \n",
      "\n",
      "     [,1] [,2]\n",
      "[1,]    1    0\n",
      "[2,]    2    1\n",
      "[3,]    2    3\n"
     ]
    }
   ],
   "source": [
    "# Creating the two matrices\n",
    "mat1 <- matrix(c(-8,-4,-2,0,2,4), nrow=3)\n",
    "mat2 <- matrix(c(1,2,2,0,1,3), nrow=3)\n",
    "\n",
    "cat(\"Matrix 1 : \\n\\n\")\n",
    "print(mat1)\n",
    "\n",
    "cat(\"\\nMatrix 2 : \\n\\n\")\n",
    "print(mat2)"
   ]
  },
  {
   "cell_type": "markdown",
   "metadata": {},
   "source": [
    "**1. Addition, Subtraction:**"
   ]
  },
  {
   "cell_type": "code",
   "execution_count": 30,
   "metadata": {},
   "outputs": [
    {
     "name": "stdout",
     "output_type": "stream",
     "text": [
      "Addition Result : \n",
      "\n",
      "     [,1] [,2]\n",
      "[1,]   -7    0\n",
      "[2,]   -2    3\n",
      "[3,]    0    7\n",
      "\n",
      "\n",
      "Subtraction Result:\n",
      "\n",
      "     [,1] [,2]\n",
      "[1,]   -9    0\n",
      "[2,]   -6    1\n",
      "[3,]   -4    1\n"
     ]
    }
   ],
   "source": [
    "cat(\"Addition Result : \\n\\n\")\n",
    "print(mat1 + mat2)\n",
    "\n",
    "cat(\"\\n\\nSubtraction Result:\\n\\n\")\n",
    "print(mat1 - mat2)"
   ]
  },
  {
   "cell_type": "markdown",
   "metadata": {},
   "source": [
    "**2. Element wise Multiplication and Division :**"
   ]
  },
  {
   "cell_type": "code",
   "execution_count": 31,
   "metadata": {},
   "outputs": [
    {
     "name": "stdout",
     "output_type": "stream",
     "text": [
      "\n",
      "\n",
      "Multiplication Result:\n",
      "\n",
      "     [,1] [,2]\n",
      "[1,]   -8    0\n",
      "[2,]   -8    2\n",
      "[3,]   -4   12\n",
      "\n",
      "\n",
      "Division Result:\n",
      "\n",
      "     [,1]     [,2]\n",
      "[1,]   -8      NaN\n",
      "[2,]   -2 2.000000\n",
      "[3,]   -1 1.333333\n"
     ]
    }
   ],
   "source": [
    "cat(\"\\n\\nMultiplication Result:\\n\\n\")\n",
    "print(mat1 * mat2)\n",
    "\n",
    "cat(\"\\n\\nDivision Result:\\n\\n\")\n",
    "print(mat1 / mat2)"
   ]
  },
  {
   "cell_type": "markdown",
   "metadata": {},
   "source": [
    "**Matrix multiplication :**\n",
    "\n",
    "Syntax : `<matrix 1> %*% <matrix 2>`"
   ]
  },
  {
   "cell_type": "code",
   "execution_count": 32,
   "metadata": {},
   "outputs": [
    {
     "name": "stdout",
     "output_type": "stream",
     "text": [
      "Matrix 1 : \n",
      "\n",
      "     [,1] [,2] [,3]\n",
      "[1,]    1    5    9\n",
      "[2,]    2    6   10\n",
      "[3,]    3    7   11\n",
      "[4,]    4    8   12\n",
      "\n",
      "Matrix 2 : \n",
      "\n",
      "     [,1] [,2] [,3] [,4]\n",
      "[1,]    1    1    1    1\n",
      "[2,]    1    1    1    1\n",
      "[3,]    1    1    1    1\n",
      "\n",
      "\n",
      "Matrix Multiplication Result:\n",
      "\n",
      "     [,1] [,2] [,3] [,4]\n",
      "[1,]   15   15   15   15\n",
      "[2,]   18   18   18   18\n",
      "[3,]   21   21   21   21\n",
      "[4,]   24   24   24   24\n"
     ]
    }
   ],
   "source": [
    "# Creating two matrices :\n",
    "# matrix 1 with 4 rows and 3 columns\n",
    "mat1 <- matrix(1:12, ncol = 3, nrow = 4)\n",
    "\n",
    "# matrix 2 with 3 rows and 4 columns\n",
    "mat2 <- matrix(rep(1,12), ncol = 4, nrow = 3)\n",
    "\n",
    "cat(\"Matrix 1 : \\n\\n\")\n",
    "print(mat1)\n",
    "\n",
    "cat(\"\\nMatrix 2 : \\n\\n\")\n",
    "print(mat2)\n",
    "\n",
    "cat(\"\\n\\nMatrix Multiplication Result:\\n\\n\")\n",
    "print(mat1 %*% mat2)"
   ]
  },
  {
   "cell_type": "markdown",
   "metadata": {},
   "source": [
    "## Arrays :\n",
    "These are the multi-dimensional arrays arranged in the form of rows, column and depth, which can be created using the `array()` function.\n",
    "\n",
    "For example: creating a three dimensional array with two layers of (1,3) matrix values: (11,22,33)  \n",
    "\n",
    "of the form :\n",
    "```\n",
    "[ \n",
    "  [ 11 , 22 , 33 ],\n",
    "  [ 11 , 22 , 33 ]\n",
    "]\n",
    "\n",
    "```"
   ]
  },
  {
   "cell_type": "code",
   "execution_count": 33,
   "metadata": {
    "scrolled": true
   },
   "outputs": [
    {
     "name": "stdout",
     "output_type": "stream",
     "text": [
      ", , 1\n",
      "\n",
      "     [,1] [,2] [,3]\n",
      "[1,]   11   22   33\n",
      "\n",
      ", , 2\n",
      "\n",
      "     [,1] [,2] [,3]\n",
      "[1,]   11   22   33\n",
      "\n"
     ]
    }
   ],
   "source": [
    "var_arr <- array(c(11,22,33),dim= c(1,3,2))\n",
    "print(var_arr)"
   ]
  },
  {
   "cell_type": "markdown",
   "metadata": {},
   "source": [
    "**Naming Rows and Columns of Arrays:**"
   ]
  },
  {
   "cell_type": "code",
   "execution_count": 34,
   "metadata": {},
   "outputs": [
    {
     "name": "stdout",
     "output_type": "stream",
     "text": [
      "Array :\n",
      "\n",
      "      col_1 col_2 col_3\n",
      "row_1     1     4     7\n",
      "row_2     2     5     8\n",
      "row_3     3     6     9\n"
     ]
    }
   ],
   "source": [
    "# Creating row and column names vectors:\n",
    "row_names = c(\"row_1\",\"row_2\",\"row_3\")\n",
    "col_names = c(\"col_1\",\"col_2\",\"col_3\")\n",
    "\n",
    "# Creating the array with row and column names:\n",
    "arr1 <- array( 1:9, \n",
    "            dim=c(3,3),\n",
    "            dimnames= list(row_names, col_names)\n",
    "            )\n",
    "cat(\"Array :\\n\\n\")\n",
    "print(arr1)"
   ]
  },
  {
   "cell_type": "markdown",
   "metadata": {},
   "source": [
    "## if - else - switch statements :\n",
    "These statements are responsible for checking if a set of conditions specified are TRUE or FALSE. These statements are resposible for controling the flow of code execution.  \n",
    "\n",
    "### 1. **if statement:**\n",
    "\n",
    "**Syntax :**\n",
    "```\n",
    "if ( [ condition ] ){\n",
    "    # Block of code to execute\n",
    "    # if condition is TRUE \n",
    "}\n",
    "```\n",
    "Consider example:"
   ]
  },
  {
   "cell_type": "code",
   "execution_count": 35,
   "metadata": {},
   "outputs": [
    {
     "name": "stdout",
     "output_type": "stream",
     "text": [
      "33  is divisible by 3!\n"
     ]
    }
   ],
   "source": [
    "# Checking if 33 is divible by 3\n",
    "\n",
    "var_num = 33\n",
    "if (var_num %% 3==0){\n",
    "    cat(var_num,\" is divisible by 3!\\n\")\n",
    "}"
   ]
  },
  {
   "cell_type": "markdown",
   "metadata": {},
   "source": [
    "### 2. **if - else statement:**\n",
    "\n",
    "**Syntax :**\n",
    "```\n",
    "if ( [ condition ] ){\n",
    "    # Block of code to execute\n",
    "    # if condition is TRUE \n",
    "} else {    #<------------------------------ PLEASE NOTE THIS SYNTAX\n",
    "                                           # If this is not followed,\n",
    "    # Block of code to execute             # then it will raise errors\n",
    "    # if condition is FALSE \n",
    "}\n",
    "```\n",
    "Consider example:"
   ]
  },
  {
   "cell_type": "code",
   "execution_count": 36,
   "metadata": {},
   "outputs": [
    {
     "name": "stdout",
     "output_type": "stream",
     "text": [
      "2  NOT divisible by 3!\n"
     ]
    }
   ],
   "source": [
    "# Checking if numebr 2 is divisible by 3 .\n",
    "\n",
    "var_num = 2\n",
    "if (var_num %% 3==0){\n",
    "    cat(var_num,\" is divisible by 3!\\n\")\n",
    "} else {\n",
    "    cat(var_num,\" NOT divisible by 3!\\n\")\n",
    "}"
   ]
  },
  {
   "cell_type": "markdown",
   "metadata": {},
   "source": [
    "### 3. **Switch statement:**\n",
    "\n",
    "**Syntax :**\n",
    "```\n",
    "switch ( [choice], case1, case2, case3,...)\n",
    "\n",
    "returns case\n",
    "```\n",
    "\n",
    "\n",
    "Consider example :"
   ]
  },
  {
   "cell_type": "code",
   "execution_count": 37,
   "metadata": {},
   "outputs": [
    {
     "data": {
      "text/html": [
       "'VIII'"
      ],
      "text/latex": [
       "'VIII'"
      ],
      "text/markdown": [
       "'VIII'"
      ],
      "text/plain": [
       "[1] \"VIII\""
      ]
     },
     "metadata": {},
     "output_type": "display_data"
    }
   ],
   "source": [
    "var_choice = 8\n",
    "\n",
    "switch(var_choice, \"I\", \"II\", \"III\", \"IV\", \"V\", \"VI\", \"VII\", \"VIII\", \"IX\", \"X\")\n"
   ]
  },
  {
   "cell_type": "markdown",
   "metadata": {},
   "source": [
    "## Loop Statements:\n",
    "\n",
    "There are 3 types of looping constructs, which are :\n",
    "\n",
    "| | loop name|\n",
    "|--|:-|\n",
    "|**1.**|**for loop**|\n",
    "|**2.**|**while loop**|\n",
    "|**3.**|**repeat loop**|\n",
    "\n",
    "### 1. **for loop:**\n",
    "\n",
    "**Syntax :**\n",
    "```\n",
    "for ( item in vector ) {\n",
    "    # Block of statemenst to execute\n",
    "    # for each loop-item\n",
    "}\n",
    "```\n",
    "Consider example:"
   ]
  },
  {
   "cell_type": "code",
   "execution_count": 38,
   "metadata": {},
   "outputs": [
    {
     "name": "stdout",
     "output_type": "stream",
     "text": [
      "Multiplication Table for  11  is as follows: \n",
      "\n",
      "11  *  1  =  11 \n",
      "11  *  2  =  22 \n",
      "11  *  3  =  33 \n",
      "11  *  4  =  44 \n",
      "11  *  5  =  55 \n",
      "11  *  6  =  66 \n",
      "11  *  7  =  77 \n",
      "11  *  8  =  88 \n",
      "11  *  9  =  99 \n",
      "11  *  10  =  110 \n"
     ]
    }
   ],
   "source": [
    "# print Multiplication Table for number : 11\n",
    "var_num = 11\n",
    "cat(\"Multiplication Table for \",var_num,\" is as follows: \\n\\n\")\n",
    "\n",
    "for ( var_item in 1:10){\n",
    "    cat(var_num,\" * \",var_item,\" = \",(var_num*var_item),\"\\n\")\n",
    "}"
   ]
  },
  {
   "cell_type": "code",
   "execution_count": 39,
   "metadata": {},
   "outputs": [
    {
     "name": "stdout",
     "output_type": "stream",
     "text": [
      "Famous and biggest fast Food Chains are :\n",
      "\n",
      "McDonald \n",
      "Subway \n",
      "Starbucks \n",
      "Pizza Hut \n"
     ]
    }
   ],
   "source": [
    "# Another example:\n",
    "restaurants = c( \"McDonald\", \"Subway\", \"Starbucks\", \"Pizza Hut\")\n",
    "cat(\"Famous and biggest fast Food Chains are :\\n\\n\")\n",
    "\n",
    "for ( item in restaurants ){\n",
    "    cat(item,\"\\n\")\n",
    "}"
   ]
  },
  {
   "cell_type": "markdown",
   "metadata": {},
   "source": [
    "### 2. **while loop:**\n",
    "**Syntax :**\n",
    "```\n",
    "while ( conditions ) {\n",
    "    # Block of statements to execute\n",
    "    # while the above condition is TRUE\n",
    "}\n",
    "```\n",
    "\n",
    "So, an example for this :"
   ]
  },
  {
   "cell_type": "code",
   "execution_count": 40,
   "metadata": {},
   "outputs": [
    {
     "name": "stdout",
     "output_type": "stream",
     "text": [
      "2  is a even number!\n",
      "4  is a even number!\n",
      "6  is a even number!\n",
      "8  is a even number!\n",
      "10  is a even number!\n",
      "12  is a even number!\n",
      "14  is a even number!\n"
     ]
    }
   ],
   "source": [
    "# Checking even numbers between 1 and 15\n",
    "var_counter = 1\n",
    "while ( var_counter < 15 ){\n",
    "    if (var_counter%%2 == 0 ){\n",
    "        cat(var_counter,\" is a even number!\\n\")\n",
    "    }\n",
    "    var_counter=var_counter+1\n",
    "}"
   ]
  },
  {
   "cell_type": "markdown",
   "metadata": {},
   "source": [
    "### 3. **repeat loop:**\n",
    "This looping construct is almost similar to the functioning of the while loop, but please note the syntax : \n",
    "\n",
    "**Syntax :**\n",
    "```\n",
    "repeat {\n",
    "    \n",
    "    # Block of statements to execute repeatedly\n",
    "    \n",
    "    if ( condition ){\n",
    "        # Block of statements to execute \n",
    "        # before exiting the repeatloop\n",
    "        break\n",
    "    }\n",
    "}\n",
    "```\n",
    "\n",
    "So, an example for this :\n"
   ]
  },
  {
   "cell_type": "code",
   "execution_count": 41,
   "metadata": {},
   "outputs": [
    {
     "name": "stdout",
     "output_type": "stream",
     "text": [
      "2  is a even number!\n",
      "4  is a even number!\n",
      "6  is a even number!\n",
      "8  is a even number!\n",
      "10  is a even number!\n",
      "12  is a even number!\n",
      "14  is a even number!\n",
      "\n",
      "Exiting repeat loop."
     ]
    }
   ],
   "source": [
    "# Checking even numbers between 1 and 15\n",
    "var_counter = 1\n",
    "\n",
    "repeat {\n",
    "    if (var_counter%%2 == 0 ){\n",
    "        cat(var_counter,\" is a even number!\\n\")\n",
    "    }\n",
    "\n",
    "    var_counter = var_counter + 1\n",
    "\n",
    "    if( var_counter > 15) {\n",
    "        cat(\"\\nExiting repeat loop.\")\n",
    "        break\n",
    "    }\n",
    "}"
   ]
  },
  {
   "cell_type": "markdown",
   "metadata": {},
   "source": [
    "## Loop Control statements :\n",
    "\n",
    "There 2 types of loop control statements:\n",
    "\n",
    "| | loop control name |use|\n",
    "|--|:-|--|\n",
    "|**1.**|**break statement**|terminate loop execution|\n",
    "|**2.**|**next statement** |skip loop execution to next counter |\n",
    "\n",
    "### 1. break :"
   ]
  },
  {
   "cell_type": "code",
   "execution_count": 42,
   "metadata": {},
   "outputs": [
    {
     "name": "stdout",
     "output_type": "stream",
     "text": [
      "1 \n",
      "2 \n",
      "3 \n",
      "4 \n",
      "5 \n",
      "6 \n",
      "7 \n",
      "8 \n",
      "9 \n",
      "10 \n"
     ]
    }
   ],
   "source": [
    "# [ break ]\n",
    "# break loop when var_counter > 9\n",
    "\n",
    "for ( var_counter in 1:20 ){\n",
    "    cat(var_counter,\"\\n\")\n",
    "    if ( var_counter > 9 ){\n",
    "        break\n",
    "    }\n",
    "}"
   ]
  },
  {
   "cell_type": "markdown",
   "metadata": {},
   "source": [
    "### 2. next :"
   ]
  },
  {
   "cell_type": "code",
   "execution_count": 43,
   "metadata": {},
   "outputs": [
    {
     "name": "stdout",
     "output_type": "stream",
     "text": [
      "Hi Welcome See you later  "
     ]
    }
   ],
   "source": [
    "# [ next ]\n",
    "# when '!' and '.' is encontered skip them and print a space ' ' instead.\n",
    "\n",
    "for ( var_char in c(\"Hi\",\"!\", \"Welcome\",\".\", \"See you later\",\"!\",\".\") ){\n",
    "    \n",
    "    if ( (var_char == \".\") || (var_char == \"!\") ){\n",
    "        cat(\" \")\n",
    "        next\n",
    "    }\n",
    "    cat(var_char)\n",
    "}"
   ]
  },
  {
   "cell_type": "markdown",
   "metadata": {},
   "source": [
    "## Functions:\n",
    "\n",
    "These are blocks of code which run only when they are called. This is mostly used when wanting to reuse same code multiple times across the code.\n",
    "\n",
    "**Syntax:**\n",
    "\n",
    "**Function Definition :**\n",
    "```\n",
    "[function name] <- function( param1, param2, param3, ... ) {\n",
    "\n",
    "    # Define body of function \n",
    "    # [ Blocks of code ]\n",
    "\n",
    "    # return statement [optional] \n",
    "}\n",
    "```\n",
    "**Function calling:**\n",
    "`>> [function name]( param1, param2, param3, ... )`\n",
    "\n",
    "For example consider for **swaping two numbers:**"
   ]
  },
  {
   "cell_type": "code",
   "execution_count": 44,
   "metadata": {},
   "outputs": [],
   "source": [
    "# Function defenition:\n",
    "swap_2_num <- function( var1, var2) {\n",
    "    var_temp <- var1\n",
    "    var1 <- var2\n",
    "    var2 <-var_temp\n",
    "    return(c(var1,var2))\n",
    "}"
   ]
  },
  {
   "cell_type": "code",
   "execution_count": 45,
   "metadata": {},
   "outputs": [
    {
     "name": "stdout",
     "output_type": "stream",
     "text": [
      "Enter your First number  : 19\n",
      "Enter your Second number : 33\n",
      "\n",
      "The numbers before swap are : \n",
      "A =  19   | B =  33 \n",
      "\n",
      "swappping!\n",
      "\n",
      "The numbers before swap are : \n",
      "A =  33   | B =  19 \n",
      "\n"
     ]
    }
   ],
   "source": [
    "# User input for two numbers and swapping these numebrs\n",
    "\n",
    "var1 <- as.integer(readline(prompt=\"Enter your First number  : \"))\n",
    "var2 <- as.integer(readline(prompt=\"Enter your Second number : \"))\n",
    "\n",
    "cat(\"\\nThe numbers before swap are : \\nA = \",var1,\"  | B = \",var2,\"\\n\\n\")\n",
    "cat(\"swappping!\\n\\n\")\n",
    "\n",
    "values = swap_2_num(var1,var2)\n",
    "\n",
    "cat(\"The numbers before swap are : \\nA = \",values[1],\"  | B = \",values[2],\"\\n\\n\")"
   ]
  },
  {
   "cell_type": "markdown",
   "metadata": {},
   "source": [
    "### Functions with default parameters:\n",
    "\n",
    "For example:"
   ]
  },
  {
   "cell_type": "code",
   "execution_count": 46,
   "metadata": {},
   "outputs": [
    {
     "name": "stdout",
     "output_type": "stream",
     "text": [
      "result1 =  50 \n",
      "result2 =  5 \n"
     ]
    }
   ],
   "source": [
    "# function for multiplying two numbers \n",
    "multiply <- function(a,b=1){\n",
    "    return(a*b)\n",
    "}\n",
    "\n",
    "# multiplying two numbers\n",
    "result = multiply(5,10)     # 5 * 10\n",
    "cat(\"result1 = \",result,\"\\n\")\n",
    "\n",
    "result = multiply(5)        # 5 * 1(default value when not specified in parameter) \n",
    "cat(\"result2 = \",result,\"\\n\")"
   ]
  },
  {
   "cell_type": "markdown",
   "metadata": {},
   "source": [
    "## String Manipulations :\n",
    "\n",
    "### I. toupper() and tolower() function:\n",
    "|function name|use|\n",
    "|--|--|\n",
    "|**toupper()**| To capitalise all the letters present in your string.|\n",
    "|**tolower()**|To change all the letters present in your string to lower case letters.|\n",
    "\n",
    "For example:"
   ]
  },
  {
   "cell_type": "code",
   "execution_count": 47,
   "metadata": {},
   "outputs": [
    {
     "name": "stdout",
     "output_type": "stream",
     "text": [
      "Original   string =  Bottled Fresh Juices. Buy 1 get 1 Free! \n",
      "\n",
      "Upper case string =  BOTTLED FRESH JUICES. BUY 1 GET 1 FREE! \n",
      "\n",
      "Lower case string =  bottled fresh juices. buy 1 get 1 free!"
     ]
    }
   ],
   "source": [
    "var_string = \"Bottled Fresh Juices. Buy 1 get 1 Free!\"\n",
    "\n",
    "cat(\"Original   string = \",(var_string),\"\\n\\n\")\n",
    "cat(\"Upper case string = \",toupper(var_string),\"\\n\\n\")\n",
    "cat(\"Lower case string = \",tolower(var_string))"
   ]
  },
  {
   "cell_type": "markdown",
   "metadata": {},
   "source": [
    "### II. Sub-String \\[ substring() / substr() \\] :\n",
    "\n",
    "This function is used in order to extract specific slice from a string.\n",
    "\n",
    "**Syntax:**\n",
    "\n",
    "`substring( string_value, start, stop )`\n",
    "\n",
    "or\n",
    "\n",
    "`substr( string_value, start, stop )   `\n",
    "\n",
    "\n",
    "An example :"
   ]
  },
  {
   "cell_type": "code",
   "execution_count": 48,
   "metadata": {},
   "outputs": [
    {
     "data": {
      "text/html": [
       "'rmelon'"
      ],
      "text/latex": [
       "'rmelon'"
      ],
      "text/markdown": [
       "'rmelon'"
      ],
      "text/plain": [
       "[1] \"rmelon\""
      ]
     },
     "metadata": {},
     "output_type": "display_data"
    }
   ],
   "source": [
    "# applying substring on a string slicing from 5th to 10th index\n",
    "\n",
    "substring(\"watermelon\",5,10)   # or substr(\"watermelon\",5,10)"
   ]
  },
  {
   "cell_type": "code",
   "execution_count": 49,
   "metadata": {},
   "outputs": [
    {
     "data": {
      "text/html": [
       "<ol class=list-inline>\n",
       "\t<li>'raw'</li>\n",
       "\t<li>'ple'</li>\n",
       "\t<li>'ngo'</li>\n",
       "</ol>\n"
      ],
      "text/latex": [
       "\\begin{enumerate*}\n",
       "\\item 'raw'\n",
       "\\item 'ple'\n",
       "\\item 'ngo'\n",
       "\\end{enumerate*}\n"
      ],
      "text/markdown": [
       "1. 'raw'\n",
       "2. 'ple'\n",
       "3. 'ngo'\n",
       "\n",
       "\n"
      ],
      "text/plain": [
       "[1] \"raw\" \"ple\" \"ngo\""
      ]
     },
     "metadata": {},
     "output_type": "display_data"
    }
   ],
   "source": [
    "# applying substring on a vector of elements\n",
    "x <- c(\"strawberry\", \"apple\", \"mango\")\n",
    "substr(x, 3, 5)"
   ]
  },
  {
   "cell_type": "markdown",
   "metadata": {},
   "source": [
    "### III. String concatenation \\[ paste function \\] :\n",
    "\n",
    "**paste()** is a function used for concatenation of multiple strings into a single string.\n",
    "\n",
    "**Syntax:**\n",
    "\n",
    "`paste( str1, str2, str3, ... , sep=[separator value], collapse= [collapse value])`\n",
    "\n",
    "|parameter| use |default|\n",
    "|--|--|--|\n",
    "|**sep**|Used to show the separation between the strings passed as parameters|`' '`|\n",
    "|**collapse**|Used to remove the space between two strings|`NULL`|\n",
    "\n",
    "Consider Example:"
   ]
  },
  {
   "cell_type": "code",
   "execution_count": 50,
   "metadata": {},
   "outputs": [
    {
     "data": {
      "text/html": [
       "'Hi!______Welcome back!______How are you?'"
      ],
      "text/latex": [
       "'Hi!\\_\\_\\_\\_\\_\\_Welcome back!\\_\\_\\_\\_\\_\\_How are you?'"
      ],
      "text/markdown": [
       "'Hi!______Welcome back!______How are you?'"
      ],
      "text/plain": [
       "[1] \"Hi!______Welcome back!______How are you?\""
      ]
     },
     "metadata": {},
     "output_type": "display_data"
    }
   ],
   "source": [
    "# Example for paste - sep :\n",
    "str1 <- \"Hi!\"\n",
    "str2 <- \"Welcome back!\"\n",
    "str3 <- \"How are you?\"\n",
    "\n",
    "paste(str1,str2,str3,sep=\"______\")"
   ]
  },
  {
   "cell_type": "code",
   "execution_count": 51,
   "metadata": {},
   "outputs": [
    {
     "data": {
      "text/html": [
       "'L OM PN Q'"
      ],
      "text/latex": [
       "'L OM PN Q'"
      ],
      "text/markdown": [
       "'L OM PN Q'"
      ],
      "text/plain": [
       "[1] \"L OM PN Q\""
      ]
     },
     "metadata": {},
     "output_type": "display_data"
    }
   ],
   "source": [
    "# Example for paste - collapse :\n",
    "paste(c(\"L\", \"M\", \"N\"), \n",
    "      c(\"O\", \"P\", \"Q\"), collapse = '')"
   ]
  },
  {
   "cell_type": "markdown",
   "metadata": {},
   "source": [
    "## Comments:\n",
    "These are the additional text that is added to explain the written code. It is mainly used to make the code more understandable. Comments can be written either in a single line or across multiple lines.\n",
    "\n",
    "### 1. **Single Line comments**:\n",
    "This is written by typing a ' # ' at the start of the line. For example:\n",
    "\n"
   ]
  },
  {
   "cell_type": "code",
   "execution_count": 52,
   "metadata": {},
   "outputs": [],
   "source": [
    "# This is a single line comment."
   ]
  },
  {
   "cell_type": "markdown",
   "metadata": {},
   "source": [
    "### 2. **MultiLine comments:** \n",
    "This is  written by enclosing the text in a false if condition."
   ]
  },
  {
   "cell_type": "code",
   "execution_count": 53,
   "metadata": {},
   "outputs": [],
   "source": [
    "if (FALSE){\n",
    "    \"This is a multiline comment enclosed \n",
    "        in an False if condition.\"\n",
    "}"
   ]
  },
  {
   "cell_type": "markdown",
   "metadata": {},
   "source": [
    "### Data Frames:\n",
    "This is data stored in the form of rows and column as in a matrix such that each column contains a different type of data and each row is indexed.\n",
    "\n",
    "**For example:** *consider the following dataframe which has data about housing:*"
   ]
  },
  {
   "cell_type": "code",
   "execution_count": 54,
   "metadata": {},
   "outputs": [
    {
     "data": {
      "text/html": [
       "<table>\n",
       "<thead><tr><th scope=col>name</th><th scope=col>location</th><th scope=col>bedrooms</th><th scope=col>bathrooms</th><th scope=col>kitchen</th><th scope=col>family_only</th><th scope=col>price</th></tr></thead>\n",
       "<tbody>\n",
       "\t<tr><td>Beverly Hills  </td><td>Pashan         </td><td>2              </td><td>2              </td><td>1              </td><td> TRUE          </td><td>10000          </td></tr>\n",
       "\t<tr><td>Bright sunshine</td><td>Baner          </td><td>1              </td><td>1              </td><td>1              </td><td>FALSE          </td><td> 7000          </td></tr>\n",
       "\t<tr><td>Golden Mist    </td><td>Aundh          </td><td>3              </td><td>4              </td><td>2              </td><td> TRUE          </td><td>25000          </td></tr>\n",
       "\t<tr><td>Konoha         </td><td>Pimpri         </td><td>2              </td><td>1              </td><td>1              </td><td> TRUE          </td><td> 9000          </td></tr>\n",
       "</tbody>\n",
       "</table>\n"
      ],
      "text/latex": [
       "\\begin{tabular}{r|lllllll}\n",
       " name & location & bedrooms & bathrooms & kitchen & family\\_only & price\\\\\n",
       "\\hline\n",
       "\t Beverly Hills   & Pashan          & 2               & 2               & 1               &  TRUE           & 10000          \\\\\n",
       "\t Bright sunshine & Baner           & 1               & 1               & 1               & FALSE           &  7000          \\\\\n",
       "\t Golden Mist     & Aundh           & 3               & 4               & 2               &  TRUE           & 25000          \\\\\n",
       "\t Konoha          & Pimpri          & 2               & 1               & 1               &  TRUE           &  9000          \\\\\n",
       "\\end{tabular}\n"
      ],
      "text/markdown": [
       "\n",
       "| name | location | bedrooms | bathrooms | kitchen | family_only | price |\n",
       "|---|---|---|---|---|---|---|\n",
       "| Beverly Hills   | Pashan          | 2               | 2               | 1               |  TRUE           | 10000           |\n",
       "| Bright sunshine | Baner           | 1               | 1               | 1               | FALSE           |  7000           |\n",
       "| Golden Mist     | Aundh           | 3               | 4               | 2               |  TRUE           | 25000           |\n",
       "| Konoha          | Pimpri          | 2               | 1               | 1               |  TRUE           |  9000           |\n",
       "\n"
      ],
      "text/plain": [
       "  name            location bedrooms bathrooms kitchen family_only price\n",
       "1 Beverly Hills   Pashan   2        2         1        TRUE       10000\n",
       "2 Bright sunshine Baner    1        1         1       FALSE        7000\n",
       "3 Golden Mist     Aundh    3        4         2        TRUE       25000\n",
       "4 Konoha          Pimpri   2        1         1        TRUE        9000"
      ]
     },
     "metadata": {},
     "output_type": "display_data"
    }
   ],
   "source": [
    "house_data <- data.frame(\n",
    "    name     = c( \"Beverly Hills\", \"Bright sunshine\", \"Golden Mist\",\"Konoha\"),\n",
    "    location = c( \"Pashan\", \"Baner\", \"Aundh\", \"Pimpri\" ),\n",
    "    bedrooms = c( 2, 1, 3, 2),\n",
    "    bathrooms= c( 2, 1, 4, 1),\n",
    "    kitchen  = c( 1, 1, 2, 1),\n",
    "    family_only= c( TRUE, FALSE, TRUE, TRUE),\n",
    "    price    = c( 10000, 7000 , 25000, 9000)\n",
    ")\n",
    "\n",
    "house_data"
   ]
  },
  {
   "cell_type": "markdown",
   "metadata": {},
   "source": [
    "#### Structure of DataFrame:\n",
    "To get the structure of our DataFrame:"
   ]
  },
  {
   "cell_type": "code",
   "execution_count": 55,
   "metadata": {},
   "outputs": [
    {
     "name": "stdout",
     "output_type": "stream",
     "text": [
      "'data.frame':\t4 obs. of  7 variables:\n",
      " $ name       : Factor w/ 4 levels \"Beverly Hills\",..: 1 2 3 4\n",
      " $ location   : Factor w/ 4 levels \"Aundh\",\"Baner\",..: 3 2 1 4\n",
      " $ bedrooms   : num  2 1 3 2\n",
      " $ bathrooms  : num  2 1 4 1\n",
      " $ kitchen    : num  1 1 2 1\n",
      " $ family_only: logi  TRUE FALSE TRUE TRUE\n",
      " $ price      : num  10000 7000 25000 9000\n"
     ]
    }
   ],
   "source": [
    "str(house_data)"
   ]
  },
  {
   "cell_type": "markdown",
   "metadata": {},
   "source": [
    "#### Summary of DataFrame:\n",
    "To get the summary of our DataFrame we use the summary() function and pass the Dataframe as an argument to it :"
   ]
  },
  {
   "cell_type": "code",
   "execution_count": 56,
   "metadata": {},
   "outputs": [
    {
     "data": {
      "text/plain": [
       "              name     location    bedrooms      bathrooms      kitchen    \n",
       " Beverly Hills  :1   Aundh :1   Min.   :1.00   Min.   :1.0   Min.   :1.00  \n",
       " Bright sunshine:1   Baner :1   1st Qu.:1.75   1st Qu.:1.0   1st Qu.:1.00  \n",
       " Golden Mist    :1   Pashan:1   Median :2.00   Median :1.5   Median :1.00  \n",
       " Konoha         :1   Pimpri:1   Mean   :2.00   Mean   :2.0   Mean   :1.25  \n",
       "                                3rd Qu.:2.25   3rd Qu.:2.5   3rd Qu.:1.25  \n",
       "                                Max.   :3.00   Max.   :4.0   Max.   :2.00  \n",
       " family_only         price      \n",
       " Mode :logical   Min.   : 7000  \n",
       " FALSE:1         1st Qu.: 8500  \n",
       " TRUE :3         Median : 9500  \n",
       "                 Mean   :12750  \n",
       "                 3rd Qu.:13750  \n",
       "                 Max.   :25000  "
      ]
     },
     "metadata": {},
     "output_type": "display_data"
    }
   ],
   "source": [
    "summary(house_data)"
   ]
  },
  {
   "cell_type": "markdown",
   "metadata": {},
   "source": [
    "#### Getting all the column names : \n"
   ]
  },
  {
   "cell_type": "code",
   "execution_count": 57,
   "metadata": {},
   "outputs": [
    {
     "data": {
      "text/html": [
       "<ol class=list-inline>\n",
       "\t<li>'name'</li>\n",
       "\t<li>'location'</li>\n",
       "\t<li>'bedrooms'</li>\n",
       "\t<li>'bathrooms'</li>\n",
       "\t<li>'kitchen'</li>\n",
       "\t<li>'family_only'</li>\n",
       "\t<li>'price'</li>\n",
       "</ol>\n"
      ],
      "text/latex": [
       "\\begin{enumerate*}\n",
       "\\item 'name'\n",
       "\\item 'location'\n",
       "\\item 'bedrooms'\n",
       "\\item 'bathrooms'\n",
       "\\item 'kitchen'\n",
       "\\item 'family\\_only'\n",
       "\\item 'price'\n",
       "\\end{enumerate*}\n"
      ],
      "text/markdown": [
       "1. 'name'\n",
       "2. 'location'\n",
       "3. 'bedrooms'\n",
       "4. 'bathrooms'\n",
       "5. 'kitchen'\n",
       "6. 'family_only'\n",
       "7. 'price'\n",
       "\n",
       "\n"
      ],
      "text/plain": [
       "[1] \"name\"        \"location\"    \"bedrooms\"    \"bathrooms\"   \"kitchen\"    \n",
       "[6] \"family_only\" \"price\"      "
      ]
     },
     "metadata": {},
     "output_type": "display_data"
    }
   ],
   "source": [
    "names(house_data)"
   ]
  },
  {
   "cell_type": "markdown",
   "metadata": {},
   "source": [
    "#### Getting total number of rows in our dataframe:\n",
    "\n",
    "We use the `nrow()` function by passing out dataframe to it which then return us the number of rows present in that dataframe."
   ]
  },
  {
   "cell_type": "code",
   "execution_count": 58,
   "metadata": {},
   "outputs": [
    {
     "name": "stdout",
     "output_type": "stream",
     "text": [
      "Total number of rows in our dataframe =  4"
     ]
    }
   ],
   "source": [
    "cat(\"Total number of rows in our dataframe = \",nrow(house_data))"
   ]
  },
  {
   "cell_type": "markdown",
   "metadata": {},
   "source": [
    "#### Accessing Rows and Columns:\n",
    "\n",
    "1. **Rows :**\n",
    "\n",
    "For example, if we wanted to get the 2nd and 3rd rows of our dataframe then we do it as follows :"
   ]
  },
  {
   "cell_type": "code",
   "execution_count": 59,
   "metadata": {},
   "outputs": [
    {
     "data": {
      "text/html": [
       "<table>\n",
       "<thead><tr><th></th><th scope=col>name</th><th scope=col>location</th><th scope=col>bedrooms</th><th scope=col>bathrooms</th><th scope=col>kitchen</th><th scope=col>family_only</th><th scope=col>price</th></tr></thead>\n",
       "<tbody>\n",
       "\t<tr><th scope=row>2</th><td>Bright sunshine</td><td>Baner          </td><td>1              </td><td>1              </td><td>1              </td><td>FALSE          </td><td> 7000          </td></tr>\n",
       "\t<tr><th scope=row>3</th><td>Golden Mist    </td><td>Aundh          </td><td>3              </td><td>4              </td><td>2              </td><td> TRUE          </td><td>25000          </td></tr>\n",
       "</tbody>\n",
       "</table>\n"
      ],
      "text/latex": [
       "\\begin{tabular}{r|lllllll}\n",
       "  & name & location & bedrooms & bathrooms & kitchen & family\\_only & price\\\\\n",
       "\\hline\n",
       "\t2 & Bright sunshine & Baner           & 1               & 1               & 1               & FALSE           &  7000          \\\\\n",
       "\t3 & Golden Mist     & Aundh           & 3               & 4               & 2               &  TRUE           & 25000          \\\\\n",
       "\\end{tabular}\n"
      ],
      "text/markdown": [
       "\n",
       "| <!--/--> | name | location | bedrooms | bathrooms | kitchen | family_only | price |\n",
       "|---|---|---|---|---|---|---|---|\n",
       "| 2 | Bright sunshine | Baner           | 1               | 1               | 1               | FALSE           |  7000           |\n",
       "| 3 | Golden Mist     | Aundh           | 3               | 4               | 2               |  TRUE           | 25000           |\n",
       "\n"
      ],
      "text/plain": [
       "  name            location bedrooms bathrooms kitchen family_only price\n",
       "2 Bright sunshine Baner    1        1         1       FALSE        7000\n",
       "3 Golden Mist     Aundh    3        4         2        TRUE       25000"
      ]
     },
     "metadata": {},
     "output_type": "display_data"
    }
   ],
   "source": [
    "house_data[2:3,]"
   ]
  },
  {
   "cell_type": "markdown",
   "metadata": {},
   "source": [
    "**2. Columns :**\n",
    "\n",
    "For example, if we wanted to access or get all the values present in the 'location' column of the House dataframe above then, we specify the column name after a dollor sign ($) added at the end of the dataframe variable name as follows:\n",
    "\n",
    "Syntax :  `<dataframe name>$<column name>`"
   ]
  },
  {
   "cell_type": "code",
   "execution_count": 60,
   "metadata": {},
   "outputs": [
    {
     "data": {
      "text/html": [
       "<ol class=list-inline>\n",
       "\t<li>Pashan</li>\n",
       "\t<li>Baner</li>\n",
       "\t<li>Aundh</li>\n",
       "\t<li>Pimpri</li>\n",
       "</ol>\n",
       "\n",
       "<details>\n",
       "\t<summary style=display:list-item;cursor:pointer>\n",
       "\t\t<strong>Levels</strong>:\n",
       "\t</summary>\n",
       "\t<ol class=list-inline>\n",
       "\t\t<li>'Aundh'</li>\n",
       "\t\t<li>'Baner'</li>\n",
       "\t\t<li>'Pashan'</li>\n",
       "\t\t<li>'Pimpri'</li>\n",
       "\t</ol>\n",
       "</details>"
      ],
      "text/latex": [
       "\\begin{enumerate*}\n",
       "\\item Pashan\n",
       "\\item Baner\n",
       "\\item Aundh\n",
       "\\item Pimpri\n",
       "\\end{enumerate*}\n",
       "\n",
       "\\emph{Levels}: \\begin{enumerate*}\n",
       "\\item 'Aundh'\n",
       "\\item 'Baner'\n",
       "\\item 'Pashan'\n",
       "\\item 'Pimpri'\n",
       "\\end{enumerate*}\n"
      ],
      "text/markdown": [
       "1. Pashan\n",
       "2. Baner\n",
       "3. Aundh\n",
       "4. Pimpri\n",
       "\n",
       "\n",
       "\n",
       "**Levels**: 1. 'Aundh'\n",
       "2. 'Baner'\n",
       "3. 'Pashan'\n",
       "4. 'Pimpri'\n",
       "\n",
       "\n"
      ],
      "text/plain": [
       "[1] Pashan Baner  Aundh  Pimpri\n",
       "Levels: Aundh Baner Pashan Pimpri"
      ]
     },
     "metadata": {},
     "output_type": "display_data"
    }
   ],
   "source": [
    "house_data$location"
   ]
  },
  {
   "cell_type": "markdown",
   "metadata": {},
   "source": [
    "Or if you want to access multiple columns then :"
   ]
  },
  {
   "cell_type": "code",
   "execution_count": 61,
   "metadata": {},
   "outputs": [
    {
     "data": {
      "text/html": [
       "<table>\n",
       "<thead><tr><th scope=col>name</th><th scope=col>bedrooms</th><th scope=col>location</th></tr></thead>\n",
       "<tbody>\n",
       "\t<tr><td>Beverly Hills  </td><td>2              </td><td>Pashan         </td></tr>\n",
       "\t<tr><td>Bright sunshine</td><td>1              </td><td>Baner          </td></tr>\n",
       "\t<tr><td>Golden Mist    </td><td>3              </td><td>Aundh          </td></tr>\n",
       "\t<tr><td>Konoha         </td><td>2              </td><td>Pimpri         </td></tr>\n",
       "</tbody>\n",
       "</table>\n"
      ],
      "text/latex": [
       "\\begin{tabular}{r|lll}\n",
       " name & bedrooms & location\\\\\n",
       "\\hline\n",
       "\t Beverly Hills   & 2               & Pashan         \\\\\n",
       "\t Bright sunshine & 1               & Baner          \\\\\n",
       "\t Golden Mist     & 3               & Aundh          \\\\\n",
       "\t Konoha          & 2               & Pimpri         \\\\\n",
       "\\end{tabular}\n"
      ],
      "text/markdown": [
       "\n",
       "| name | bedrooms | location |\n",
       "|---|---|---|\n",
       "| Beverly Hills   | 2               | Pashan          |\n",
       "| Bright sunshine | 1               | Baner           |\n",
       "| Golden Mist     | 3               | Aundh           |\n",
       "| Konoha          | 2               | Pimpri          |\n",
       "\n"
      ],
      "text/plain": [
       "  name            bedrooms location\n",
       "1 Beverly Hills   2        Pashan  \n",
       "2 Bright sunshine 1        Baner   \n",
       "3 Golden Mist     3        Aundh   \n",
       "4 Konoha          2        Pimpri  "
      ]
     },
     "metadata": {},
     "output_type": "display_data"
    }
   ],
   "source": [
    "house_data[c('name','bedrooms','location')]"
   ]
  },
  {
   "cell_type": "markdown",
   "metadata": {},
   "source": [
    "#### Adding new Rows and Columns in our DataFrame :\n",
    "\n",
    "**1. Adding new Rows :**\n",
    "\n",
    "By creating a new temporary Dataframe and appending it :"
   ]
  },
  {
   "cell_type": "code",
   "execution_count": 62,
   "metadata": {},
   "outputs": [
    {
     "data": {
      "text/html": [
       "<table>\n",
       "<thead><tr><th scope=col>name</th><th scope=col>location</th><th scope=col>bedrooms</th><th scope=col>bathrooms</th><th scope=col>kitchen</th><th scope=col>family_only</th><th scope=col>price</th></tr></thead>\n",
       "<tbody>\n",
       "\t<tr><td>Beverly Hills  </td><td>Pashan         </td><td>2              </td><td>2              </td><td>1              </td><td> TRUE          </td><td>10000          </td></tr>\n",
       "\t<tr><td>Bright sunshine</td><td>Baner          </td><td>1              </td><td>1              </td><td>1              </td><td>FALSE          </td><td> 7000          </td></tr>\n",
       "\t<tr><td>Golden Mist    </td><td>Aundh          </td><td>3              </td><td>4              </td><td>2              </td><td> TRUE          </td><td>25000          </td></tr>\n",
       "\t<tr><td>Konoha         </td><td>Pimpri         </td><td>2              </td><td>1              </td><td>1              </td><td> TRUE          </td><td> 9000          </td></tr>\n",
       "\t<tr><td>Serene Waves   </td><td>Lonavala       </td><td>2              </td><td>1              </td><td>1              </td><td>FALSE          </td><td>13000          </td></tr>\n",
       "</tbody>\n",
       "</table>\n"
      ],
      "text/latex": [
       "\\begin{tabular}{r|lllllll}\n",
       " name & location & bedrooms & bathrooms & kitchen & family\\_only & price\\\\\n",
       "\\hline\n",
       "\t Beverly Hills   & Pashan          & 2               & 2               & 1               &  TRUE           & 10000          \\\\\n",
       "\t Bright sunshine & Baner           & 1               & 1               & 1               & FALSE           &  7000          \\\\\n",
       "\t Golden Mist     & Aundh           & 3               & 4               & 2               &  TRUE           & 25000          \\\\\n",
       "\t Konoha          & Pimpri          & 2               & 1               & 1               &  TRUE           &  9000          \\\\\n",
       "\t Serene Waves    & Lonavala        & 2               & 1               & 1               & FALSE           & 13000          \\\\\n",
       "\\end{tabular}\n"
      ],
      "text/markdown": [
       "\n",
       "| name | location | bedrooms | bathrooms | kitchen | family_only | price |\n",
       "|---|---|---|---|---|---|---|\n",
       "| Beverly Hills   | Pashan          | 2               | 2               | 1               |  TRUE           | 10000           |\n",
       "| Bright sunshine | Baner           | 1               | 1               | 1               | FALSE           |  7000           |\n",
       "| Golden Mist     | Aundh           | 3               | 4               | 2               |  TRUE           | 25000           |\n",
       "| Konoha          | Pimpri          | 2               | 1               | 1               |  TRUE           |  9000           |\n",
       "| Serene Waves    | Lonavala        | 2               | 1               | 1               | FALSE           | 13000           |\n",
       "\n"
      ],
      "text/plain": [
       "  name            location bedrooms bathrooms kitchen family_only price\n",
       "1 Beverly Hills   Pashan   2        2         1        TRUE       10000\n",
       "2 Bright sunshine Baner    1        1         1       FALSE        7000\n",
       "3 Golden Mist     Aundh    3        4         2        TRUE       25000\n",
       "4 Konoha          Pimpri   2        1         1        TRUE        9000\n",
       "5 Serene Waves    Lonavala 2        1         1       FALSE       13000"
      ]
     },
     "metadata": {},
     "output_type": "display_data"
    }
   ],
   "source": [
    "# Creating a list containing all the new row values to be added \n",
    "new_row_value <- list(\"Serene Waves\", \"Lonavala\",2,1,1,FALSE,13000)\n",
    "\n",
    "# Creating a temporary dataframe with the new row values  \n",
    "temp_df <- data.frame( new_row_value )\n",
    "\n",
    "# Renaming all the columns in the temporary dataframe to match the column names in our house dataframe\n",
    "names(temp_df) <- names(house_data) \n",
    "\n",
    "# Using the ribnd() function to add this temporary dataframe at the end of teh source dataframe \n",
    "house_data <- rbind(house_data, temp_df)\n",
    "\n",
    "# Display house_data\n",
    "house_data"
   ]
  },
  {
   "cell_type": "markdown",
   "metadata": {},
   "source": [
    "**2. Adding new Columns :**\n",
    "\n",
    "Lets try adding a isMaintenance column for the houses in our DataFrame:"
   ]
  },
  {
   "cell_type": "code",
   "execution_count": 63,
   "metadata": {},
   "outputs": [
    {
     "data": {
      "text/html": [
       "<table>\n",
       "<thead><tr><th scope=col>name</th><th scope=col>location</th><th scope=col>bedrooms</th><th scope=col>bathrooms</th><th scope=col>kitchen</th><th scope=col>family_only</th><th scope=col>price</th><th scope=col>isMaintenance</th></tr></thead>\n",
       "<tbody>\n",
       "\t<tr><td>Beverly Hills  </td><td>Pashan         </td><td>2              </td><td>2              </td><td>1              </td><td> TRUE          </td><td>10000          </td><td> TRUE          </td></tr>\n",
       "\t<tr><td>Bright sunshine</td><td>Baner          </td><td>1              </td><td>1              </td><td>1              </td><td>FALSE          </td><td> 7000          </td><td>FALSE          </td></tr>\n",
       "\t<tr><td>Golden Mist    </td><td>Aundh          </td><td>3              </td><td>4              </td><td>2              </td><td> TRUE          </td><td>25000          </td><td> TRUE          </td></tr>\n",
       "\t<tr><td>Konoha         </td><td>Pimpri         </td><td>2              </td><td>1              </td><td>1              </td><td> TRUE          </td><td> 9000          </td><td> TRUE          </td></tr>\n",
       "\t<tr><td>Serene Waves   </td><td>Lonavala       </td><td>2              </td><td>1              </td><td>1              </td><td>FALSE          </td><td>13000          </td><td>FALSE          </td></tr>\n",
       "</tbody>\n",
       "</table>\n"
      ],
      "text/latex": [
       "\\begin{tabular}{r|llllllll}\n",
       " name & location & bedrooms & bathrooms & kitchen & family\\_only & price & isMaintenance\\\\\n",
       "\\hline\n",
       "\t Beverly Hills   & Pashan          & 2               & 2               & 1               &  TRUE           & 10000           &  TRUE          \\\\\n",
       "\t Bright sunshine & Baner           & 1               & 1               & 1               & FALSE           &  7000           & FALSE          \\\\\n",
       "\t Golden Mist     & Aundh           & 3               & 4               & 2               &  TRUE           & 25000           &  TRUE          \\\\\n",
       "\t Konoha          & Pimpri          & 2               & 1               & 1               &  TRUE           &  9000           &  TRUE          \\\\\n",
       "\t Serene Waves    & Lonavala        & 2               & 1               & 1               & FALSE           & 13000           & FALSE          \\\\\n",
       "\\end{tabular}\n"
      ],
      "text/markdown": [
       "\n",
       "| name | location | bedrooms | bathrooms | kitchen | family_only | price | isMaintenance |\n",
       "|---|---|---|---|---|---|---|---|\n",
       "| Beverly Hills   | Pashan          | 2               | 2               | 1               |  TRUE           | 10000           |  TRUE           |\n",
       "| Bright sunshine | Baner           | 1               | 1               | 1               | FALSE           |  7000           | FALSE           |\n",
       "| Golden Mist     | Aundh           | 3               | 4               | 2               |  TRUE           | 25000           |  TRUE           |\n",
       "| Konoha          | Pimpri          | 2               | 1               | 1               |  TRUE           |  9000           |  TRUE           |\n",
       "| Serene Waves    | Lonavala        | 2               | 1               | 1               | FALSE           | 13000           | FALSE           |\n",
       "\n"
      ],
      "text/plain": [
       "  name            location bedrooms bathrooms kitchen family_only price\n",
       "1 Beverly Hills   Pashan   2        2         1        TRUE       10000\n",
       "2 Bright sunshine Baner    1        1         1       FALSE        7000\n",
       "3 Golden Mist     Aundh    3        4         2        TRUE       25000\n",
       "4 Konoha          Pimpri   2        1         1        TRUE        9000\n",
       "5 Serene Waves    Lonavala 2        1         1       FALSE       13000\n",
       "  isMaintenance\n",
       "1  TRUE        \n",
       "2 FALSE        \n",
       "3  TRUE        \n",
       "4  TRUE        \n",
       "5 FALSE        "
      ]
     },
     "metadata": {},
     "output_type": "display_data"
    }
   ],
   "source": [
    "# Create maintenance vector corresponding to each house.\n",
    "maintenance <- c(TRUE,FALSE,TRUE,TRUE,FALSE)\n",
    "\n",
    "# Assign these house maintenance values to a new column named 'isMaintenance'\n",
    "house_data$isMaintenance <- maintenance\n",
    "\n",
    "# Display DataFrame\n",
    "house_data"
   ]
  },
  {
   "cell_type": "code",
   "execution_count": null,
   "metadata": {},
   "outputs": [],
   "source": []
  },
  {
   "cell_type": "markdown",
   "metadata": {},
   "source": [
    "## Functions:\n",
    "\n",
    "#### 1. apply() function :  "
   ]
  },
  {
   "cell_type": "code",
   "execution_count": 64,
   "metadata": {},
   "outputs": [
    {
     "name": "stdout",
     "output_type": "stream",
     "text": [
      "Matrix :\n",
      "\n",
      "     [,1] [,2] [,3] [,4] [,5] [,6]\n",
      "[1,]    1    6    1    6    1    6\n",
      "[2,]    2    7    2    7    2    7\n",
      "[3,]    3    8    3    8    3    8\n",
      "[4,]    4    9    4    9    4    9\n",
      "[5,]    5   10    5   10    5   10\n",
      "\n",
      "\n",
      "Result after applying sum function :\n",
      "\n",
      "[1] 15 40 15 40 15 40\n"
     ]
    }
   ],
   "source": [
    "# Creating matrix \n",
    "mat1 <- matrix(C<-(1:10),nrow=5, ncol=6)\n",
    "\n",
    "cat(\"Matrix :\\n\\n\")\n",
    "print(mat1)\n",
    "\n",
    "cat(\"\\n\\nResult after applying sum function :\\n\\n\")\n",
    "res <- apply(mat1, 2, sum)\n",
    "print(res)"
   ]
  },
  {
   "cell_type": "markdown",
   "metadata": {},
   "source": [
    "#### 2. factor() function:\n",
    "\n",
    "The [factor()](https://www.rdocumentation.org/packages/base/versions/3.6.2/topics/factor) function is used to encode a vector as a factor.\n",
    "\n",
    "Lets see an example:"
   ]
  },
  {
   "cell_type": "code",
   "execution_count": 65,
   "metadata": {},
   "outputs": [
    {
     "name": "stdout",
     "output_type": "stream",
     "text": [
      "Vector : \n",
      "\n",
      "[1] \"A\" \"B\" \"D\" \"E\" \"F\" \"G\" \"H\"\n",
      "\n",
      "Is 'labels' vector factorized :  FALSE\n",
      "\n",
      "\n",
      "Factorised Vector : \n",
      "\n",
      "[1] A B D E F G H\n",
      "Levels: A B D E F G H\n",
      "\n",
      "Is 'factor_labels' vector factorized :  TRUE"
     ]
    }
   ],
   "source": [
    "# Creating the vector: \n",
    "labels <- c( \"A\",\"B\",\"D\",\"E\",\"F\",\"G\",\"H\" )\n",
    "cat(\"Vector : \\n\\n\")\n",
    "print(labels)\n",
    "cat(\"\\nIs 'labels' vector factorized : \",is.factor(labels))\n",
    "\n",
    "# Using the factor() function on our labels vector:\n",
    "factor_labels <- factor(labels)\n",
    "cat(\"\\n\\n\\nFactorised Vector : \\n\\n\")\n",
    "print(factor_labels)\n",
    "cat(\"\\nIs 'factor_labels' vector factorized : \",is.factor(factor_labels))"
   ]
  },
  {
   "cell_type": "markdown",
   "metadata": {},
   "source": [
    "**Changing the Order of the Levels :**"
   ]
  },
  {
   "cell_type": "code",
   "execution_count": 66,
   "metadata": {},
   "outputs": [
    {
     "name": "stdout",
     "output_type": "stream",
     "text": [
      "drinks vector : \n",
      "\n",
      "[1] \"Cola\"  \"Pepsi\" \"Pepsi\" \"7up\"   \"7up\"   \"Cola\" \n",
      "\n",
      "\n",
      "Factorized drinks vector : \n",
      "\n",
      "[1] Cola  Pepsi Pepsi 7up   7up   Cola \n",
      "Levels: 7up Cola Pepsi\n",
      "\n",
      "\n",
      "Final result with changed order of levels: \n",
      "\n",
      "[1] Cola  Pepsi Pepsi 7up   7up   Cola \n",
      "Levels: Pepsi 7up Cola\n"
     ]
    }
   ],
   "source": [
    "# Creating the vector: \n",
    "drinks <- c(\"Cola\",\"Pepsi\",\"Pepsi\", \"7up\",\"7up\",\"Cola\")\n",
    "cat(\"drinks vector : \\n\\n\")\n",
    "print(drinks)\n",
    "\n",
    "# Factorizing teh drink vector:\n",
    "factor_drinks <- factor(drinks)\n",
    "cat(\"\\n\\nFactorized drinks vector : \\n\\n\")\n",
    "print(factor_drinks)\n",
    "\n",
    "# Again we apply the factor() for changing the order of the levels:\n",
    "result <- factor(factor_drinks, levels=c(\"Pepsi\", \"7up\",\"Cola\"))\n",
    "cat(\"\\n\\nFinal result with changed order of levels: \\n\\n\")\n",
    "print(result)"
   ]
  },
  {
   "cell_type": "markdown",
   "metadata": {},
   "source": [
    "#### 3. gl() function:\n",
    "\n",
    "The [gl()](https://www.rdocumentation.org/packages/base/versions/3.6.2/topics/gl) function is used to create factors by specifying the pattern of their levels.\n",
    "\n",
    "Consider an Example:"
   ]
  },
  {
   "cell_type": "code",
   "execution_count": 67,
   "metadata": {},
   "outputs": [
    {
     "name": "stdout",
     "output_type": "stream",
     "text": [
      " [1] negative negative negative neutral  neutral  neutral  positive positive\n",
      " [9] positive None     None     None    \n",
      "Levels: negative neutral positive None\n"
     ]
    }
   ],
   "source": [
    "# Example-1\n",
    "sentiments <- gl(4,3, labels=c(\"negative\",\"neutral\",\"positive\",\"None\"))\n",
    "print(sentiments)"
   ]
  },
  {
   "cell_type": "code",
   "execution_count": 68,
   "metadata": {},
   "outputs": [
    {
     "name": "stdout",
     "output_type": "stream",
     "text": [
      " [1] 1 1 2 2 3 3 4 4 1 1 2 2 3 3 4 4 1 1 2 2\n",
      "Levels: 1 2 3 4\n"
     ]
    }
   ],
   "source": [
    "# Example-2\n",
    "# Alternating pairs of ( 1, 2, 3, and 4 ) with total length = 20 \n",
    "print(gl(4,2,20))"
   ]
  },
  {
   "cell_type": "markdown",
   "metadata": {},
   "source": [
    "<hr>"
   ]
  }
 ],
 "metadata": {
  "kernelspec": {
   "display_name": "R",
   "language": "R",
   "name": "ir"
  },
  "language_info": {
   "codemirror_mode": "r",
   "file_extension": ".r",
   "mimetype": "text/x-r-source",
   "name": "R",
   "pygments_lexer": "r",
   "version": "3.6.1"
  }
 },
 "nbformat": 4,
 "nbformat_minor": 5
}
